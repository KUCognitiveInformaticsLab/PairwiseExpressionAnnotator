{
 "cells": [
  {
   "cell_type": "code",
   "execution_count": 1,
   "id": "9f2c46a7-4885-492d-8b18-735b77aae278",
   "metadata": {},
   "outputs": [],
   "source": [
    "import os \n",
    "import json"
   ]
  },
  {
   "cell_type": "code",
   "execution_count": 66,
   "id": "38ab6a52-22b6-4467-9bdd-547b6dd66933",
   "metadata": {},
   "outputs": [],
   "source": [
    "# utils\n",
    "# run this first\n",
    "def read_json_file(filePath):\n",
    "    with open(filePath) as f:\n",
    "        data = json.load(f)\n",
    "    return data\n",
    "\n",
    "def read_folder_of_data(exp, folderPath):\n",
    "    fileNames = sorted(os.listdir(folderPath))\n",
    "    results = []\n",
    "    for i in fileNames:\n",
    "        temp = os.path.join(folderPath, i)\n",
    "        tempdata = read_json_file(temp)\n",
    "        \n",
    "        cleanedList = generateCleanList(exp, tempdata)\n",
    "        temp_res = mergeFromPairwiseRating(cleanedList)\n",
    "        temp_res.reverse()\n",
    "        \n",
    "        results.append([temp, temp_res])\n",
    "    return results\n",
    "        \n",
    "\n",
    "def getImg(exp, img):\n",
    "    if exp == 'happy':\n",
    "        return img[91:] # happiness_selected_imgonly100/ha_106\n",
    "    elif exp=='fear':\n",
    "        return img[112:]\n",
    "\n",
    "def generateCleanList(exp, temp_json):\n",
    "    cleanedList = []\n",
    "    for i in temp_json[\"payload\"]['pairwise_rating']:\n",
    "        tempimg1 = getImg(exp, i[0])\n",
    "        tempimg2 = getImg(exp, i[1])\n",
    "        cleanedList.append([tempimg1, tempimg2, i[2]])\n",
    "    return cleanedList\n",
    "\n",
    "\n",
    "def compare(img1, img2, reflist):\n",
    "    for i in reflist:\n",
    "        print(i)\n",
    "        print(img1, img2)\n",
    "        if (i[0] == img1 and i[1] == img2) or (i[0] == img2 and i[1] == img1):\n",
    "            return i[2]\n",
    "    raise Exception(\"Image not found in list\", img1, img2)\n",
    "\n",
    "def mergeSortPairwiseRecursive(alist, reflist):\n",
    "    # Base case: if there is only one image, return it\n",
    "    if (len(alist) <= 1):\n",
    "        return alist\n",
    "\n",
    "    # Recursive case: if there are more than one image, split the list into two halves\n",
    "    mid = len(alist)//2\n",
    "    lefthalf = alist[:mid]\n",
    "    righthalf = alist[mid:]\n",
    "\n",
    "    # Recursive call: sort the two halves\n",
    "    mergeSortPairwiseRecursive(lefthalf, reflist)\n",
    "    mergeSortPairwiseRecursive(righthalf, reflist)\n",
    "\n",
    "    # Merge the two halves\n",
    "    merged = []\n",
    "    i, j = 0, 0\n",
    "    while i < len(lefthalf) and j < len(righthalf):\n",
    "        cmp = compare(lefthalf[i], righthalf[j], reflist)\n",
    "        if cmp == -1:\n",
    "            merged.append(lefthalf[i])\n",
    "            i += 1\n",
    "        elif cmp == 1:\n",
    "            merged.append(righthalf[j])\n",
    "            j += 1\n",
    "        else:\n",
    "            raise Exception(\"Comparison not found in list\")\n",
    "\n",
    "    # Add the remaining elements\n",
    "    while i < len(lefthalf):\n",
    "        merged.append(lefthalf[i])\n",
    "        i += 1\n",
    "    while j < len(righthalf):\n",
    "        merged.append(righthalf[j])\n",
    "        j += 1\n",
    "\n",
    "    return merged\n",
    "\n",
    "def swap(target_list, posa, posb):\n",
    "    # print('swap', posa, posb)\n",
    "    target_list[posa], target_list[posb] = target_list[posb], target_list[posa]\n",
    "    return target_list\n",
    "\n",
    "def mergeOnlyPairwise(raw_list, raw_ref_list):\n",
    "    temp_list = raw_list\n",
    "    for i in raw_ref_list:\n",
    "        if i[2] == -1 and temp_list.index(i[0]) < temp_list.index(i[1]):\n",
    "            temp_list = swap(temp_list, temp_list.index(i[0]), temp_list.index(i[1]))\n",
    "        elif i[2] == 1 and temp_list.index(i[0]) > temp_list.index(i[1]):\n",
    "            temp_list = swap(temp_list, temp_list.index(i[0]), temp_list.index(i[1]))\n",
    "\n",
    "    return temp_list\n",
    "\n",
    "# write a merge sort function in python\n",
    "def mergeFromPairwiseRating(cleanedList):\n",
    "    # ha\n",
    "    mergeList = ['ha_367.png', 'ha_84.png', 'ha_207.png', 'ha_2.png', 'ha_212.png', 'ha_399.png', 'ha_428.png', 'ha_172.png', 'ha_50.png', 'ha_1.png', 'ha_407.png', 'ha_201.png', 'ha_215.png', 'ha_5.png', 'ha_348.png', 'ha_54.png', 'ha_412.png', 'ha_174.png', 'ha_404.png', 'ha_202.png', 'ha_43.png', 'ha_377.png', 'ha_149.png', 'ha_106.png', 'ha_24.png', 'ha_476.png', 'ha_310.png', 'ha_489.png', 'ha_477.png', 'ha_311.png', 'ha_19.png', 'ha_107.png', 'ha_139.png', 'ha_111.png', 'ha_33.png', 'ha_27.png', 'ha_475.png', 'ha_32.png', 'ha_110.png', 'ha_128.png', 'ha_262.png', 'ha_288.png', 'ha_303.png', 'ha_301.png', 'ha_315.png', 'ha_329.png', 'ha_249.png', 'ha_314.png', 'ha_466.png', 'ha_116.png', 'ha_11.png', 'ha_443.png', 'ha_292.png', 'ha_244.png', 'ha_442.png', 'ha_132.png', 'ha_130.png', 'ha_124.png', 'ha_454.png', 'ha_497.png', 'ha_252.png', 'ha_284.png', 'ha_482.png', 'ha_131.png', 'ha_119.png', 'ha_451.png', 'ha_243.png', 'ha_257.png', 'ha_256.png', 'ha_16.png', 'ha_450.png', 'ha_122.png', 'ha_320.png', 'ha_334.png', 'ha_491.png', 'ha_268.png', 'ha_296.png', 'ha_241.png', 'ha_233.png', 'ha_384.png', 'ha_186.png', 'ha_151.png', 'ha_145.png', 'ha_184.png', 'ha_59.png', 'ha_9.png', 'ha_393.png', 'ha_344.png', 'ha_422.png', 'ha_185.png', 'ha_152.png', 'ha_368.png', 'ha_235.png', 'ha_221.png', 'ha_382.png', 'ha_396.png', 'ha_341.png', 'ha_380.png', 'ha_381.png', 'ha_342.png']\n",
    "    # fear\n",
    "    mergeList = ['fe_1.png', 'fe_10.png', 'fe_11.png', 'fe_110.png', 'fe_125.png', 'fe_128.png', 'fe_143.png', 'fe_147.png', 'fe_150.png', 'fe_151.png', 'fe_153.png', 'fe_159.png', 'fe_16.png', 'fe_166.png', 'fe_17.png', 'fe_173.png', 'fe_174.png', 'fe_181.png', 'fe_184.png', 'fe_185.png', 'fe_191.png', 'fe_193.png', 'fe_197.png', 'fe_2.png', 'fe_201.png', 'fe_202.png', 'fe_203.png', 'fe_204.png', 'fe_206.png', 'fe_207.png', 'fe_211.png', 'fe_212.png', 'fe_22.png', 'fe_226.png', 'fe_232.png', 'fe_236.png', 'fe_237.png', 'fe_238.png', 'fe_249.png', 'fe_253.png', 'fe_26.png', 'fe_260.png', 'fe_271.png', 'fe_279.png', 'fe_287.png', 'fe_29.png', 'fe_291.png', 'fe_30.png', 'fe_300.png', 'fe_303.png', 'fe_307.png', 'fe_313.png', 'fe_336.png', 'fe_34.png', 'fe_340.png', 'fe_345.png', 'fe_349.png', 'fe_356.png', 'fe_362.png', 'fe_364.png', 'fe_376.png', 'fe_38.png', 'fe_380.png', 'fe_381.png', 'fe_382.png', 'fe_385.png', 'fe_39.png', 'fe_390.png', 'fe_393.png', 'fe_396.png', 'fe_402.png', 'fe_406.png', 'fe_408.png', 'fe_417.png', 'fe_42.png', 'fe_420.png', 'fe_427.png', 'fe_43.png', 'fe_431.png', 'fe_441.png', 'fe_442.png', 'fe_449.png', 'fe_451.png', 'fe_46.png', 'fe_472.png', 'fe_473.png', 'fe_475.png', 'fe_477.png', 'fe_484.png', 'fe_499.png', 'fe_5.png', 'fe_53.png', 'fe_57.png', 'fe_59.png', 'fe_69.png', 'fe_7.png', 'fe_8.png', 'fe_84.png', 'fe_90.png', 'fe_91.png', 'fe_93.png', 'fe_95.png']\n",
    "    \n",
    "    mergeListPairwiseRef = []\n",
    "    for i in cleanedList:\n",
    "        mergeListPairwiseRef.append([i[0] + '.png', i[1] + '.png', i[2]])\n",
    "\n",
    "    import copy\n",
    "    counter = 0\n",
    "    last_list = []\n",
    "    new_list = mergeOnlyPairwise(mergeList, mergeListPairwiseRef)\n",
    "    for i in range(100):\n",
    "        # if new_list == last_list:\n",
    "        if all(x == y for x, y in zip(new_list, last_list)):\n",
    "            if counter < 5:\n",
    "                print(i, 'done')\n",
    "                counter += 1\n",
    "            last_list = copy.deepcopy(new_list)\n",
    "        else:\n",
    "            last_list = copy.deepcopy(new_list)\n",
    "        new_list = mergeOnlyPairwise(new_list, mergeListPairwiseRef)\n",
    "    \n",
    "    return new_list\n",
    "\n",
    "def mergeFromPairwiseRatingNum(numlist, cleanedList):\n",
    "    mergeList = numlist\n",
    "    mergeListPairwiseRef = cleanedList\n",
    "\n",
    "    import copy\n",
    "    counter = 0\n",
    "    last_list = []\n",
    "    new_list = mergeOnlyPairwise(mergeList, mergeListPairwiseRef)\n",
    "    for i in range(100):\n",
    "        if all(x == y for x, y in zip(new_list, last_list)):\n",
    "            if counter < 5:\n",
    "                print(i, 'done')\n",
    "                counter += 1\n",
    "            last_list = copy.deepcopy(new_list)\n",
    "        else:\n",
    "            last_list = copy.deepcopy(new_list)\n",
    "        new_list = mergeOnlyPairwise(new_list, mergeListPairwiseRef)\n",
    "    \n",
    "    return new_list\n",
    "\n"
   ]
  },
  {
   "cell_type": "code",
   "execution_count": 67,
   "id": "fd10032d-8fe6-47a9-baf7-c8b213f0458a",
   "metadata": {},
   "outputs": [
    {
     "name": "stdout",
     "output_type": "stream",
     "text": [
      "0 done\n",
      "8 done\n",
      "9 done\n",
      "10 done\n",
      "11 done\n",
      "0 done\n",
      "1 done\n",
      "2 done\n",
      "3 done\n",
      "4 done\n",
      "0 done\n",
      "1 done\n",
      "2 done\n",
      "3 done\n",
      "4 done\n",
      "0 done\n",
      "1 done\n",
      "2 done\n",
      "3 done\n",
      "4 done\n",
      "0 done\n",
      "1 done\n",
      "2 done\n",
      "3 done\n",
      "4 done\n",
      "[['data/fear/1_dongagent_fear.txt', ['fe_313.png', 'fe_260.png', 'fe_181.png', 'fe_356.png', 'fe_53.png', 'fe_396.png', 'fe_91.png', 'fe_385.png', 'fe_93.png', 'fe_59.png', 'fe_472.png', 'fe_174.png', 'fe_427.png', 'fe_29.png', 'fe_5.png', 'fe_16.png', 'fe_202.png', 'fe_147.png', 'fe_499.png', 'fe_232.png', 'fe_475.png', 'fe_185.png', 'fe_43.png', 'fe_150.png', 'fe_380.png', 'fe_30.png', 'fe_484.png', 'fe_382.png', 'fe_39.png', 'fe_17.png', 'fe_110.png', 'fe_362.png', 'fe_431.png', 'fe_451.png', 'fe_287.png', 'fe_197.png', 'fe_376.png', 'fe_193.png', 'fe_449.png', 'fe_159.png', 'fe_125.png', 'fe_441.png', 'fe_477.png', 'fe_390.png', 'fe_173.png', 'fe_406.png', 'fe_249.png', 'fe_22.png', 'fe_90.png', 'fe_408.png', 'fe_381.png', 'fe_349.png', 'fe_10.png', 'fe_393.png', 'fe_211.png', 'fe_7.png', 'fe_1.png', 'fe_473.png', 'fe_128.png', 'fe_238.png', 'fe_151.png', 'fe_364.png', 'fe_84.png', 'fe_95.png', 'fe_46.png', 'fe_143.png', 'fe_345.png', 'fe_237.png', 'fe_204.png', 'fe_11.png', 'fe_153.png', 'fe_2.png', 'fe_420.png', 'fe_203.png', 'fe_291.png', 'fe_212.png', 'fe_340.png', 'fe_201.png', 'fe_226.png', 'fe_253.png', 'fe_417.png', 'fe_402.png', 'fe_206.png', 'fe_166.png', 'fe_191.png', 'fe_303.png', 'fe_307.png', 'fe_271.png', 'fe_34.png', 'fe_42.png', 'fe_207.png', 'fe_236.png', 'fe_279.png', 'fe_38.png', 'fe_336.png', 'fe_184.png', 'fe_300.png', 'fe_8.png', 'fe_26.png', 'fe_69.png', 'fe_57.png', 'fe_442.png']], ['data/fear/2_imamura_fear.txt', ['fe_95.png', 'fe_93.png', 'fe_91.png', 'fe_90.png', 'fe_84.png', 'fe_8.png', 'fe_7.png', 'fe_69.png', 'fe_59.png', 'fe_57.png', 'fe_53.png', 'fe_5.png', 'fe_499.png', 'fe_484.png', 'fe_477.png', 'fe_475.png', 'fe_473.png', 'fe_472.png', 'fe_46.png', 'fe_451.png', 'fe_449.png', 'fe_442.png', 'fe_441.png', 'fe_431.png', 'fe_43.png', 'fe_427.png', 'fe_420.png', 'fe_42.png', 'fe_417.png', 'fe_408.png', 'fe_406.png', 'fe_402.png', 'fe_396.png', 'fe_393.png', 'fe_390.png', 'fe_39.png', 'fe_385.png', 'fe_382.png', 'fe_381.png', 'fe_380.png', 'fe_38.png', 'fe_376.png', 'fe_364.png', 'fe_362.png', 'fe_356.png', 'fe_349.png', 'fe_345.png', 'fe_340.png', 'fe_34.png', 'fe_336.png', 'fe_313.png', 'fe_307.png', 'fe_303.png', 'fe_300.png', 'fe_30.png', 'fe_291.png', 'fe_29.png', 'fe_287.png', 'fe_279.png', 'fe_271.png', 'fe_260.png', 'fe_26.png', 'fe_253.png', 'fe_249.png', 'fe_238.png', 'fe_237.png', 'fe_236.png', 'fe_232.png', 'fe_226.png', 'fe_22.png', 'fe_212.png', 'fe_211.png', 'fe_207.png', 'fe_206.png', 'fe_204.png', 'fe_203.png', 'fe_202.png', 'fe_201.png', 'fe_2.png', 'fe_197.png', 'fe_193.png', 'fe_191.png', 'fe_185.png', 'fe_184.png', 'fe_181.png', 'fe_174.png', 'fe_173.png', 'fe_17.png', 'fe_166.png', 'fe_16.png', 'fe_159.png', 'fe_153.png', 'fe_151.png', 'fe_150.png', 'fe_147.png', 'fe_143.png', 'fe_128.png', 'fe_125.png', 'fe_110.png', 'fe_11.png', 'fe_10.png', 'fe_1.png']], ['data/fear/3_tanaka_fear.txt', ['fe_95.png', 'fe_93.png', 'fe_91.png', 'fe_90.png', 'fe_84.png', 'fe_8.png', 'fe_7.png', 'fe_69.png', 'fe_59.png', 'fe_57.png', 'fe_53.png', 'fe_5.png', 'fe_499.png', 'fe_484.png', 'fe_477.png', 'fe_475.png', 'fe_473.png', 'fe_472.png', 'fe_46.png', 'fe_451.png', 'fe_449.png', 'fe_442.png', 'fe_441.png', 'fe_431.png', 'fe_43.png', 'fe_427.png', 'fe_420.png', 'fe_42.png', 'fe_417.png', 'fe_408.png', 'fe_406.png', 'fe_402.png', 'fe_396.png', 'fe_393.png', 'fe_390.png', 'fe_39.png', 'fe_385.png', 'fe_382.png', 'fe_381.png', 'fe_380.png', 'fe_38.png', 'fe_376.png', 'fe_364.png', 'fe_362.png', 'fe_356.png', 'fe_349.png', 'fe_345.png', 'fe_340.png', 'fe_34.png', 'fe_336.png', 'fe_313.png', 'fe_307.png', 'fe_303.png', 'fe_300.png', 'fe_30.png', 'fe_291.png', 'fe_29.png', 'fe_287.png', 'fe_279.png', 'fe_271.png', 'fe_260.png', 'fe_26.png', 'fe_253.png', 'fe_249.png', 'fe_238.png', 'fe_237.png', 'fe_236.png', 'fe_232.png', 'fe_226.png', 'fe_22.png', 'fe_212.png', 'fe_211.png', 'fe_207.png', 'fe_206.png', 'fe_204.png', 'fe_203.png', 'fe_202.png', 'fe_201.png', 'fe_2.png', 'fe_197.png', 'fe_193.png', 'fe_191.png', 'fe_185.png', 'fe_184.png', 'fe_181.png', 'fe_174.png', 'fe_173.png', 'fe_17.png', 'fe_166.png', 'fe_16.png', 'fe_159.png', 'fe_153.png', 'fe_151.png', 'fe_150.png', 'fe_147.png', 'fe_143.png', 'fe_128.png', 'fe_125.png', 'fe_110.png', 'fe_11.png', 'fe_10.png', 'fe_1.png']], ['data/fear/4_hirano_fear.txt', ['fe_95.png', 'fe_93.png', 'fe_91.png', 'fe_90.png', 'fe_84.png', 'fe_8.png', 'fe_7.png', 'fe_69.png', 'fe_59.png', 'fe_57.png', 'fe_53.png', 'fe_5.png', 'fe_499.png', 'fe_484.png', 'fe_477.png', 'fe_475.png', 'fe_473.png', 'fe_472.png', 'fe_46.png', 'fe_451.png', 'fe_449.png', 'fe_442.png', 'fe_441.png', 'fe_431.png', 'fe_43.png', 'fe_427.png', 'fe_420.png', 'fe_42.png', 'fe_417.png', 'fe_408.png', 'fe_406.png', 'fe_402.png', 'fe_396.png', 'fe_393.png', 'fe_390.png', 'fe_39.png', 'fe_385.png', 'fe_382.png', 'fe_381.png', 'fe_380.png', 'fe_38.png', 'fe_376.png', 'fe_364.png', 'fe_362.png', 'fe_356.png', 'fe_349.png', 'fe_345.png', 'fe_340.png', 'fe_34.png', 'fe_336.png', 'fe_313.png', 'fe_307.png', 'fe_303.png', 'fe_300.png', 'fe_30.png', 'fe_291.png', 'fe_29.png', 'fe_287.png', 'fe_279.png', 'fe_271.png', 'fe_260.png', 'fe_26.png', 'fe_253.png', 'fe_249.png', 'fe_238.png', 'fe_237.png', 'fe_236.png', 'fe_232.png', 'fe_226.png', 'fe_22.png', 'fe_212.png', 'fe_211.png', 'fe_207.png', 'fe_206.png', 'fe_204.png', 'fe_203.png', 'fe_202.png', 'fe_201.png', 'fe_2.png', 'fe_197.png', 'fe_193.png', 'fe_191.png', 'fe_185.png', 'fe_184.png', 'fe_181.png', 'fe_174.png', 'fe_173.png', 'fe_17.png', 'fe_166.png', 'fe_16.png', 'fe_159.png', 'fe_153.png', 'fe_151.png', 'fe_150.png', 'fe_147.png', 'fe_143.png', 'fe_128.png', 'fe_125.png', 'fe_110.png', 'fe_11.png', 'fe_10.png', 'fe_1.png']], ['data/fear/5_sun_fear.txt', ['fe_95.png', 'fe_93.png', 'fe_91.png', 'fe_90.png', 'fe_84.png', 'fe_8.png', 'fe_7.png', 'fe_69.png', 'fe_59.png', 'fe_57.png', 'fe_53.png', 'fe_5.png', 'fe_499.png', 'fe_484.png', 'fe_477.png', 'fe_475.png', 'fe_473.png', 'fe_472.png', 'fe_46.png', 'fe_451.png', 'fe_449.png', 'fe_442.png', 'fe_441.png', 'fe_431.png', 'fe_43.png', 'fe_427.png', 'fe_420.png', 'fe_42.png', 'fe_417.png', 'fe_408.png', 'fe_406.png', 'fe_402.png', 'fe_396.png', 'fe_393.png', 'fe_390.png', 'fe_39.png', 'fe_385.png', 'fe_382.png', 'fe_381.png', 'fe_380.png', 'fe_38.png', 'fe_376.png', 'fe_364.png', 'fe_362.png', 'fe_356.png', 'fe_349.png', 'fe_345.png', 'fe_340.png', 'fe_34.png', 'fe_336.png', 'fe_313.png', 'fe_307.png', 'fe_303.png', 'fe_300.png', 'fe_30.png', 'fe_291.png', 'fe_29.png', 'fe_287.png', 'fe_279.png', 'fe_271.png', 'fe_260.png', 'fe_26.png', 'fe_253.png', 'fe_249.png', 'fe_238.png', 'fe_237.png', 'fe_236.png', 'fe_232.png', 'fe_226.png', 'fe_22.png', 'fe_212.png', 'fe_211.png', 'fe_207.png', 'fe_206.png', 'fe_204.png', 'fe_203.png', 'fe_202.png', 'fe_201.png', 'fe_2.png', 'fe_197.png', 'fe_193.png', 'fe_191.png', 'fe_185.png', 'fe_184.png', 'fe_181.png', 'fe_174.png', 'fe_173.png', 'fe_17.png', 'fe_166.png', 'fe_16.png', 'fe_159.png', 'fe_153.png', 'fe_151.png', 'fe_150.png', 'fe_147.png', 'fe_143.png', 'fe_128.png', 'fe_125.png', 'fe_110.png', 'fe_11.png', 'fe_10.png', 'fe_1.png']]]\n"
     ]
    }
   ],
   "source": [
    "fear_data = read_folder_of_data('fear', 'data/fear/')\n",
    "print(fear_data)"
   ]
  },
  {
   "cell_type": "code",
   "execution_count": null,
   "id": "bc2e1aa0-36c2-4f2d-9230-3f5e5e7f9b9b",
   "metadata": {},
   "outputs": [],
   "source": []
  },
  {
   "cell_type": "code",
   "execution_count": 3,
   "id": "d0590ec6-a0e0-4076-876a-eb609960c0ff",
   "metadata": {},
   "outputs": [
    {
     "name": "stdout",
     "output_type": "stream",
     "text": [
      "dict_keys(['userData', 'experiment_name', 'experiment_instance', 'condition', 'worker_id', 'payload', 'totalTime'])\n",
      "525\n"
     ]
    }
   ],
   "source": [
    "temp_json = read_json_file('data/fear/1_dongagent_fear.txt')\n",
    "print(temp_json.keys())\n",
    "print(len(temp_json[\"payload\"]['pairwise_rating']))"
   ]
  },
  {
   "cell_type": "markdown",
   "id": "661c7c08-0a3b-4c1e-a693-32f7ff5c9973",
   "metadata": {},
   "source": [
    "# Participant analysis"
   ]
  },
  {
   "cell_type": "markdown",
   "id": "d5768062-3320-46b5-8a82-e82f20290814",
   "metadata": {},
   "source": [
    "# Fear"
   ]
  },
  {
   "cell_type": "code",
   "execution_count": 46,
   "id": "16c9b0e6-d6cd-4199-ac70-f8cca804fabc",
   "metadata": {},
   "outputs": [
    {
     "name": "stdout",
     "output_type": "stream",
     "text": [
      "0 done\n",
      "8 done\n",
      "9 done\n",
      "10 done\n",
      "11 done\n"
     ]
    }
   ],
   "source": [
    "# cleanedList = generateCleanList(read_json_file('data/1_zhengliang.json'))\n",
    "\n",
    "\n",
    "# jason\n",
    "tempjsonfile = read_json_file('data/fear/1_dongagent_fear.txt')\n",
    "cleanedList = generateCleanList('fear', tempjsonfile)\n",
    "res_fear1 = mergeFromPairwiseRating(cleanedList)\n",
    "res_fear1.reverse()"
   ]
  },
  {
   "cell_type": "code",
   "execution_count": 47,
   "id": "207e862a-bcc1-4cbf-8b7b-de807bcda64a",
   "metadata": {},
   "outputs": [
    {
     "name": "stdout",
     "output_type": "stream",
     "text": [
      "0 done\n",
      "1 done\n",
      "2 done\n",
      "3 done\n",
      "4 done\n"
     ]
    }
   ],
   "source": [
    "# Imamura\n",
    "tempjsonfile = read_json_file('data/fear/2_imamura_fear.txt')\n",
    "cleanedList = generateCleanList('fear', tempjsonfile)\n",
    "res_fear2 = mergeFromPairwiseRating(cleanedList)\n",
    "res_fear2.reverse()"
   ]
  },
  {
   "cell_type": "code",
   "execution_count": 48,
   "id": "a49161c8-a28a-483a-899f-d198d52568a5",
   "metadata": {},
   "outputs": [
    {
     "name": "stdout",
     "output_type": "stream",
     "text": [
      "0 done\n",
      "1 done\n",
      "2 done\n",
      "3 done\n",
      "4 done\n"
     ]
    }
   ],
   "source": [
    "# Tanaka\n",
    "tempjsonfile = read_json_file('data/fear/3_tanaka_fear.txt')\n",
    "cleanedList = generateCleanList('fear', tempjsonfile)\n",
    "res_fear3 = mergeFromPairwiseRating(cleanedList)\n",
    "res_fear3.reverse()"
   ]
  },
  {
   "cell_type": "code",
   "execution_count": 49,
   "id": "880ab31f-1422-48e3-b9eb-28f490b3e823",
   "metadata": {},
   "outputs": [
    {
     "name": "stdout",
     "output_type": "stream",
     "text": [
      "0 done\n",
      "1 done\n",
      "2 done\n",
      "3 done\n",
      "4 done\n"
     ]
    }
   ],
   "source": [
    "# hirano\n",
    "tempjsonfile = read_json_file('data/fear/4_hirano_fear.txt')\n",
    "cleanedList = generateCleanList('fear', tempjsonfile)\n",
    "res_fear4 = mergeFromPairwiseRating(cleanedList)\n",
    "res_fear4.reverse()"
   ]
  },
  {
   "cell_type": "code",
   "execution_count": 50,
   "id": "b6f720a8-1c17-4641-a7b0-03f3253c626a",
   "metadata": {},
   "outputs": [
    {
     "name": "stdout",
     "output_type": "stream",
     "text": [
      "0 done\n",
      "1 done\n",
      "2 done\n",
      "3 done\n",
      "4 done\n"
     ]
    }
   ],
   "source": [
    "# sun\n",
    "tempjsonfile = read_json_file('data/fear/5_sun_fear.txt')\n",
    "cleanedList = generateCleanList('fear', tempjsonfile)\n",
    "res_fear5 = mergeFromPairwiseRating(cleanedList)\n",
    "res_fear5.reverse()"
   ]
  },
  {
   "cell_type": "code",
   "execution_count": 51,
   "id": "f33b29e1-5f21-47c2-899a-72a89dff2fa8",
   "metadata": {},
   "outputs": [
    {
     "name": "stdout",
     "output_type": "stream",
     "text": [
      "Jason\n",
      " ['fe_313.png', 'fe_260.png', 'fe_181.png', 'fe_356.png', 'fe_53.png', 'fe_396.png', 'fe_91.png', 'fe_385.png', 'fe_93.png', 'fe_59.png', 'fe_472.png', 'fe_174.png', 'fe_427.png', 'fe_29.png', 'fe_5.png', 'fe_16.png', 'fe_202.png', 'fe_147.png', 'fe_499.png', 'fe_232.png', 'fe_475.png', 'fe_185.png', 'fe_43.png', 'fe_150.png', 'fe_380.png', 'fe_30.png', 'fe_484.png', 'fe_382.png', 'fe_39.png', 'fe_17.png', 'fe_110.png', 'fe_362.png', 'fe_431.png', 'fe_451.png', 'fe_287.png', 'fe_197.png', 'fe_376.png', 'fe_193.png', 'fe_449.png', 'fe_159.png', 'fe_125.png', 'fe_441.png', 'fe_477.png', 'fe_390.png', 'fe_173.png', 'fe_406.png', 'fe_249.png', 'fe_22.png', 'fe_90.png', 'fe_408.png', 'fe_381.png', 'fe_349.png', 'fe_10.png', 'fe_393.png', 'fe_211.png', 'fe_7.png', 'fe_1.png', 'fe_473.png', 'fe_128.png', 'fe_238.png', 'fe_151.png', 'fe_364.png', 'fe_84.png', 'fe_95.png', 'fe_46.png', 'fe_143.png', 'fe_345.png', 'fe_237.png', 'fe_204.png', 'fe_11.png', 'fe_153.png', 'fe_2.png', 'fe_420.png', 'fe_203.png', 'fe_291.png', 'fe_212.png', 'fe_340.png', 'fe_201.png', 'fe_226.png', 'fe_253.png', 'fe_417.png', 'fe_402.png', 'fe_206.png', 'fe_166.png', 'fe_191.png', 'fe_303.png', 'fe_307.png', 'fe_271.png', 'fe_34.png', 'fe_42.png', 'fe_207.png', 'fe_236.png', 'fe_279.png', 'fe_38.png', 'fe_336.png', 'fe_184.png', 'fe_300.png', 'fe_8.png', 'fe_26.png', 'fe_69.png', 'fe_57.png', 'fe_442.png']\n",
      "\n",
      "Imamura\n",
      " ['fe_95.png', 'fe_93.png', 'fe_91.png', 'fe_90.png', 'fe_84.png', 'fe_8.png', 'fe_7.png', 'fe_69.png', 'fe_59.png', 'fe_57.png', 'fe_53.png', 'fe_5.png', 'fe_499.png', 'fe_484.png', 'fe_477.png', 'fe_475.png', 'fe_473.png', 'fe_472.png', 'fe_46.png', 'fe_451.png', 'fe_449.png', 'fe_442.png', 'fe_441.png', 'fe_431.png', 'fe_43.png', 'fe_427.png', 'fe_420.png', 'fe_42.png', 'fe_417.png', 'fe_408.png', 'fe_406.png', 'fe_402.png', 'fe_396.png', 'fe_393.png', 'fe_390.png', 'fe_39.png', 'fe_385.png', 'fe_382.png', 'fe_381.png', 'fe_380.png', 'fe_38.png', 'fe_376.png', 'fe_364.png', 'fe_362.png', 'fe_356.png', 'fe_349.png', 'fe_345.png', 'fe_340.png', 'fe_34.png', 'fe_336.png', 'fe_313.png', 'fe_307.png', 'fe_303.png', 'fe_300.png', 'fe_30.png', 'fe_291.png', 'fe_29.png', 'fe_287.png', 'fe_279.png', 'fe_271.png', 'fe_260.png', 'fe_26.png', 'fe_253.png', 'fe_249.png', 'fe_238.png', 'fe_237.png', 'fe_236.png', 'fe_232.png', 'fe_226.png', 'fe_22.png', 'fe_212.png', 'fe_211.png', 'fe_207.png', 'fe_206.png', 'fe_204.png', 'fe_203.png', 'fe_202.png', 'fe_201.png', 'fe_2.png', 'fe_197.png', 'fe_193.png', 'fe_191.png', 'fe_185.png', 'fe_184.png', 'fe_181.png', 'fe_174.png', 'fe_173.png', 'fe_17.png', 'fe_166.png', 'fe_16.png', 'fe_159.png', 'fe_153.png', 'fe_151.png', 'fe_150.png', 'fe_147.png', 'fe_143.png', 'fe_128.png', 'fe_125.png', 'fe_110.png', 'fe_11.png', 'fe_10.png', 'fe_1.png']\n",
      "\n",
      "Tanaka\n",
      " ['fe_95.png', 'fe_93.png', 'fe_91.png', 'fe_90.png', 'fe_84.png', 'fe_8.png', 'fe_7.png', 'fe_69.png', 'fe_59.png', 'fe_57.png', 'fe_53.png', 'fe_5.png', 'fe_499.png', 'fe_484.png', 'fe_477.png', 'fe_475.png', 'fe_473.png', 'fe_472.png', 'fe_46.png', 'fe_451.png', 'fe_449.png', 'fe_442.png', 'fe_441.png', 'fe_431.png', 'fe_43.png', 'fe_427.png', 'fe_420.png', 'fe_42.png', 'fe_417.png', 'fe_408.png', 'fe_406.png', 'fe_402.png', 'fe_396.png', 'fe_393.png', 'fe_390.png', 'fe_39.png', 'fe_385.png', 'fe_382.png', 'fe_381.png', 'fe_380.png', 'fe_38.png', 'fe_376.png', 'fe_364.png', 'fe_362.png', 'fe_356.png', 'fe_349.png', 'fe_345.png', 'fe_340.png', 'fe_34.png', 'fe_336.png', 'fe_313.png', 'fe_307.png', 'fe_303.png', 'fe_300.png', 'fe_30.png', 'fe_291.png', 'fe_29.png', 'fe_287.png', 'fe_279.png', 'fe_271.png', 'fe_260.png', 'fe_26.png', 'fe_253.png', 'fe_249.png', 'fe_238.png', 'fe_237.png', 'fe_236.png', 'fe_232.png', 'fe_226.png', 'fe_22.png', 'fe_212.png', 'fe_211.png', 'fe_207.png', 'fe_206.png', 'fe_204.png', 'fe_203.png', 'fe_202.png', 'fe_201.png', 'fe_2.png', 'fe_197.png', 'fe_193.png', 'fe_191.png', 'fe_185.png', 'fe_184.png', 'fe_181.png', 'fe_174.png', 'fe_173.png', 'fe_17.png', 'fe_166.png', 'fe_16.png', 'fe_159.png', 'fe_153.png', 'fe_151.png', 'fe_150.png', 'fe_147.png', 'fe_143.png', 'fe_128.png', 'fe_125.png', 'fe_110.png', 'fe_11.png', 'fe_10.png', 'fe_1.png']\n",
      "\n",
      "Hirano\n",
      " ['fe_95.png', 'fe_93.png', 'fe_91.png', 'fe_90.png', 'fe_84.png', 'fe_8.png', 'fe_7.png', 'fe_69.png', 'fe_59.png', 'fe_57.png', 'fe_53.png', 'fe_5.png', 'fe_499.png', 'fe_484.png', 'fe_477.png', 'fe_475.png', 'fe_473.png', 'fe_472.png', 'fe_46.png', 'fe_451.png', 'fe_449.png', 'fe_442.png', 'fe_441.png', 'fe_431.png', 'fe_43.png', 'fe_427.png', 'fe_420.png', 'fe_42.png', 'fe_417.png', 'fe_408.png', 'fe_406.png', 'fe_402.png', 'fe_396.png', 'fe_393.png', 'fe_390.png', 'fe_39.png', 'fe_385.png', 'fe_382.png', 'fe_381.png', 'fe_380.png', 'fe_38.png', 'fe_376.png', 'fe_364.png', 'fe_362.png', 'fe_356.png', 'fe_349.png', 'fe_345.png', 'fe_340.png', 'fe_34.png', 'fe_336.png', 'fe_313.png', 'fe_307.png', 'fe_303.png', 'fe_300.png', 'fe_30.png', 'fe_291.png', 'fe_29.png', 'fe_287.png', 'fe_279.png', 'fe_271.png', 'fe_260.png', 'fe_26.png', 'fe_253.png', 'fe_249.png', 'fe_238.png', 'fe_237.png', 'fe_236.png', 'fe_232.png', 'fe_226.png', 'fe_22.png', 'fe_212.png', 'fe_211.png', 'fe_207.png', 'fe_206.png', 'fe_204.png', 'fe_203.png', 'fe_202.png', 'fe_201.png', 'fe_2.png', 'fe_197.png', 'fe_193.png', 'fe_191.png', 'fe_185.png', 'fe_184.png', 'fe_181.png', 'fe_174.png', 'fe_173.png', 'fe_17.png', 'fe_166.png', 'fe_16.png', 'fe_159.png', 'fe_153.png', 'fe_151.png', 'fe_150.png', 'fe_147.png', 'fe_143.png', 'fe_128.png', 'fe_125.png', 'fe_110.png', 'fe_11.png', 'fe_10.png', 'fe_1.png']\n",
      "\n",
      "Sun\n",
      " ['fe_95.png', 'fe_93.png', 'fe_91.png', 'fe_90.png', 'fe_84.png', 'fe_8.png', 'fe_7.png', 'fe_69.png', 'fe_59.png', 'fe_57.png', 'fe_53.png', 'fe_5.png', 'fe_499.png', 'fe_484.png', 'fe_477.png', 'fe_475.png', 'fe_473.png', 'fe_472.png', 'fe_46.png', 'fe_451.png', 'fe_449.png', 'fe_442.png', 'fe_441.png', 'fe_431.png', 'fe_43.png', 'fe_427.png', 'fe_420.png', 'fe_42.png', 'fe_417.png', 'fe_408.png', 'fe_406.png', 'fe_402.png', 'fe_396.png', 'fe_393.png', 'fe_390.png', 'fe_39.png', 'fe_385.png', 'fe_382.png', 'fe_381.png', 'fe_380.png', 'fe_38.png', 'fe_376.png', 'fe_364.png', 'fe_362.png', 'fe_356.png', 'fe_349.png', 'fe_345.png', 'fe_340.png', 'fe_34.png', 'fe_336.png', 'fe_313.png', 'fe_307.png', 'fe_303.png', 'fe_300.png', 'fe_30.png', 'fe_291.png', 'fe_29.png', 'fe_287.png', 'fe_279.png', 'fe_271.png', 'fe_260.png', 'fe_26.png', 'fe_253.png', 'fe_249.png', 'fe_238.png', 'fe_237.png', 'fe_236.png', 'fe_232.png', 'fe_226.png', 'fe_22.png', 'fe_212.png', 'fe_211.png', 'fe_207.png', 'fe_206.png', 'fe_204.png', 'fe_203.png', 'fe_202.png', 'fe_201.png', 'fe_2.png', 'fe_197.png', 'fe_193.png', 'fe_191.png', 'fe_185.png', 'fe_184.png', 'fe_181.png', 'fe_174.png', 'fe_173.png', 'fe_17.png', 'fe_166.png', 'fe_16.png', 'fe_159.png', 'fe_153.png', 'fe_151.png', 'fe_150.png', 'fe_147.png', 'fe_143.png', 'fe_128.png', 'fe_125.png', 'fe_110.png', 'fe_11.png', 'fe_10.png', 'fe_1.png']\n"
     ]
    }
   ],
   "source": [
    "print('Jason\\n', res_fear1)\n",
    "print()\n",
    "print('Imamura\\n', res_fear2)\n",
    "print()\n",
    "print('Tanaka\\n', res_fear3)\n",
    "print()\n",
    "print('Hirano\\n', res_fear4)\n",
    "print()\n",
    "print('Sun\\n', res_fear5)"
   ]
  },
  {
   "cell_type": "markdown",
   "id": "bc65a2c3",
   "metadata": {},
   "source": []
  },
  {
   "cell_type": "code",
   "execution_count": 52,
   "id": "566940ca",
   "metadata": {},
   "outputs": [
    {
     "name": "stdout",
     "output_type": "stream",
     "text": [
      "['fe_1.png', 'fe_2.png', 'fe_5.png', 'fe_7.png', 'fe_8.png', 'fe_10.png', 'fe_11.png', 'fe_16.png', 'fe_17.png', 'fe_22.png', 'fe_26.png', 'fe_29.png', 'fe_30.png', 'fe_34.png', 'fe_38.png', 'fe_39.png', 'fe_42.png', 'fe_43.png', 'fe_46.png', 'fe_53.png', 'fe_57.png', 'fe_59.png', 'fe_69.png', 'fe_84.png', 'fe_90.png', 'fe_91.png', 'fe_93.png', 'fe_95.png', 'fe_110.png', 'fe_125.png', 'fe_128.png', 'fe_143.png', 'fe_147.png', 'fe_150.png', 'fe_151.png', 'fe_153.png', 'fe_159.png', 'fe_166.png', 'fe_173.png', 'fe_174.png', 'fe_181.png', 'fe_184.png', 'fe_185.png', 'fe_191.png', 'fe_193.png', 'fe_197.png', 'fe_201.png', 'fe_202.png', 'fe_203.png', 'fe_204.png', 'fe_206.png', 'fe_207.png', 'fe_211.png', 'fe_212.png', 'fe_226.png', 'fe_232.png', 'fe_236.png', 'fe_237.png', 'fe_238.png', 'fe_249.png', 'fe_253.png', 'fe_260.png', 'fe_271.png', 'fe_279.png', 'fe_287.png', 'fe_291.png', 'fe_300.png', 'fe_303.png', 'fe_307.png', 'fe_313.png', 'fe_336.png', 'fe_340.png', 'fe_345.png', 'fe_349.png', 'fe_356.png', 'fe_362.png', 'fe_364.png', 'fe_376.png', 'fe_380.png', 'fe_381.png', 'fe_382.png', 'fe_385.png', 'fe_390.png', 'fe_393.png', 'fe_396.png', 'fe_402.png', 'fe_406.png', 'fe_408.png', 'fe_417.png', 'fe_420.png', 'fe_427.png', 'fe_431.png', 'fe_441.png', 'fe_442.png', 'fe_449.png', 'fe_451.png', 'fe_472.png', 'fe_473.png', 'fe_475.png', 'fe_477.png', 'fe_484.png', 'fe_499.png']\n"
     ]
    }
   ],
   "source": [
    "# sort raw_img_name_list base on the number in the file name\n",
    "def sortRawImgNameList(raw_img_name_list):\n",
    "    import re\n",
    "    def atoi(text):\n",
    "        return int(text) if text.isdigit() else text\n",
    "\n",
    "    def natural_keys(text):\n",
    "        '''\n",
    "        alist.sort(key=natural_keys) sorts in human order\n",
    "        http://nedbatchelder.com/blog/200712/human_sorting.html\n",
    "        (See Toothy's implementation in the comments)\n",
    "        '''\n",
    "        return [atoi(c) for c in re.split(r'(\\d+)', text)]\n",
    "\n",
    "    raw_img_name_list.sort(key=natural_keys)\n",
    "    return raw_img_name_list\n",
    "\n",
    "# sort the list\n",
    "raw_img_name_list = ['fe_1.png', 'fe_10.png', 'fe_11.png', 'fe_110.png', 'fe_125.png', 'fe_128.png', 'fe_143.png', 'fe_147.png', 'fe_150.png', 'fe_151.png', 'fe_153.png', 'fe_159.png', 'fe_16.png', 'fe_166.png', 'fe_17.png', 'fe_173.png', 'fe_174.png', 'fe_181.png', 'fe_184.png', 'fe_185.png', 'fe_191.png', 'fe_193.png', 'fe_197.png', 'fe_2.png', 'fe_201.png', 'fe_202.png', 'fe_203.png', 'fe_204.png', 'fe_206.png', 'fe_207.png', 'fe_211.png', 'fe_212.png', 'fe_22.png', 'fe_226.png', 'fe_232.png', 'fe_236.png', 'fe_237.png', 'fe_238.png', 'fe_249.png', 'fe_253.png', 'fe_26.png', 'fe_260.png', 'fe_271.png', 'fe_279.png', 'fe_287.png', 'fe_29.png', 'fe_291.png', 'fe_30.png', 'fe_300.png', 'fe_303.png', 'fe_307.png', 'fe_313.png', 'fe_336.png', 'fe_34.png', 'fe_340.png', 'fe_345.png', 'fe_349.png', 'fe_356.png', 'fe_362.png', 'fe_364.png', 'fe_376.png', 'fe_38.png', 'fe_380.png', 'fe_381.png', 'fe_382.png', 'fe_385.png', 'fe_39.png', 'fe_390.png', 'fe_393.png', 'fe_396.png', 'fe_402.png', 'fe_406.png', 'fe_408.png', 'fe_417.png', 'fe_42.png', 'fe_420.png', 'fe_427.png', 'fe_43.png', 'fe_431.png', 'fe_441.png', 'fe_442.png', 'fe_449.png', 'fe_451.png', 'fe_46.png', 'fe_472.png', 'fe_473.png', 'fe_475.png', 'fe_477.png', 'fe_484.png', 'fe_499.png', 'fe_5.png', 'fe_53.png', 'fe_57.png', 'fe_59.png', 'fe_69.png', 'fe_7.png', 'fe_8.png', 'fe_84.png', 'fe_90.png', 'fe_91.png', 'fe_93.png', 'fe_95.png']\n",
    "\n",
    "myList = sortRawImgNameList(raw_img_name_list)\n",
    "print(myList)"
   ]
  },
  {
   "cell_type": "code",
   "execution_count": 53,
   "id": "4564fbfd",
   "metadata": {},
   "outputs": [
    {
     "name": "stdout",
     "output_type": "stream",
     "text": [
      "{'fe_1.png': 0, 'fe_2.png': 0, 'fe_5.png': 0, 'fe_7.png': 0, 'fe_8.png': 0, 'fe_10.png': 0, 'fe_11.png': 0, 'fe_16.png': 0, 'fe_17.png': 0, 'fe_22.png': 0, 'fe_26.png': 0, 'fe_29.png': 0, 'fe_30.png': 0, 'fe_34.png': 0, 'fe_38.png': 0, 'fe_39.png': 0, 'fe_42.png': 0, 'fe_43.png': 0, 'fe_46.png': 0, 'fe_53.png': 0, 'fe_57.png': 0, 'fe_59.png': 0, 'fe_69.png': 0, 'fe_84.png': 0, 'fe_90.png': 0, 'fe_91.png': 0, 'fe_93.png': 0, 'fe_95.png': 0, 'fe_110.png': 0, 'fe_125.png': 0, 'fe_128.png': 0, 'fe_143.png': 0, 'fe_147.png': 0, 'fe_150.png': 0, 'fe_151.png': 0, 'fe_153.png': 0, 'fe_159.png': 0, 'fe_166.png': 0, 'fe_173.png': 0, 'fe_174.png': 0, 'fe_181.png': 0, 'fe_184.png': 0, 'fe_185.png': 0, 'fe_191.png': 0, 'fe_193.png': 0, 'fe_197.png': 0, 'fe_201.png': 0, 'fe_202.png': 0, 'fe_203.png': 0, 'fe_204.png': 0, 'fe_206.png': 0, 'fe_207.png': 0, 'fe_211.png': 0, 'fe_212.png': 0, 'fe_226.png': 0, 'fe_232.png': 0, 'fe_236.png': 0, 'fe_237.png': 0, 'fe_238.png': 0, 'fe_249.png': 0, 'fe_253.png': 0, 'fe_260.png': 0, 'fe_271.png': 0, 'fe_279.png': 0, 'fe_287.png': 0, 'fe_291.png': 0, 'fe_300.png': 0, 'fe_303.png': 0, 'fe_307.png': 0, 'fe_313.png': 0, 'fe_336.png': 0, 'fe_340.png': 0, 'fe_345.png': 0, 'fe_349.png': 0, 'fe_356.png': 0, 'fe_362.png': 0, 'fe_364.png': 0, 'fe_376.png': 0, 'fe_380.png': 0, 'fe_381.png': 0, 'fe_382.png': 0, 'fe_385.png': 0, 'fe_390.png': 0, 'fe_393.png': 0, 'fe_396.png': 0, 'fe_402.png': 0, 'fe_406.png': 0, 'fe_408.png': 0, 'fe_417.png': 0, 'fe_420.png': 0, 'fe_427.png': 0, 'fe_431.png': 0, 'fe_441.png': 0, 'fe_442.png': 0, 'fe_449.png': 0, 'fe_451.png': 0, 'fe_472.png': 0, 'fe_473.png': 0, 'fe_475.png': 0, 'fe_477.png': 0, 'fe_484.png': 0, 'fe_499.png': 0}\n"
     ]
    }
   ],
   "source": [
    "raw_img_score_dic = {x: 0 for x in raw_img_name_list}\n",
    "print(raw_img_score_dic)"
   ]
  },
  {
   "cell_type": "code",
   "execution_count": 54,
   "id": "efde9c84",
   "metadata": {},
   "outputs": [
    {
     "name": "stdout",
     "output_type": "stream",
     "text": [
      "[('fe_93.png', 12), ('fe_91.png', 14), ('fe_59.png', 41), ('fe_53.png', 44), ('fe_5.png', 58), ('fe_90.png', 60), ('fe_95.png', 63), ('fe_499.png', 66), ('fe_84.png', 78), ('fe_472.png', 78), ('fe_484.png', 78), ('fe_7.png', 79), ('fe_475.png', 80), ('fe_477.png', 98), ('fe_451.png', 109), ('fe_427.png', 112), ('fe_8.png', 117), ('fe_43.png', 118), ('fe_449.png', 118), ('fe_473.png', 121), ('fe_431.png', 124), ('fe_69.png', 127), ('fe_441.png', 129), ('fe_396.png', 133), ('fe_46.png', 136), ('fe_57.png', 136), ('fe_385.png', 151), ('fe_406.png', 165), ('fe_408.png', 165), ('fe_39.png', 168), ('fe_382.png', 175), ('fe_420.png', 176), ('fe_356.png', 179), ('fe_390.png', 179), ('fe_380.png', 180), ('fe_393.png', 185), ('fe_442.png', 185), ('fe_417.png', 192), ('fe_42.png', 197), ('fe_313.png', 200), ('fe_376.png', 200), ('fe_381.png', 202), ('fe_362.png', 203), ('fe_402.png', 205), ('fe_364.png', 229), ('fe_349.png', 231), ('fe_29.png', 237), ('fe_30.png', 241), ('fe_260.png', 241), ('fe_345.png', 250), ('fe_38.png', 253), ('fe_287.png', 262), ('fe_340.png', 264), ('fe_34.png', 280), ('fe_232.png', 287), ('fe_307.png', 290), ('fe_336.png', 290), ('fe_303.png', 293), ('fe_291.png', 294), ('fe_249.png', 298), ('fe_300.png', 308), ('fe_238.png', 315), ('fe_202.png', 320), ('fe_22.png', 323), ('fe_271.png', 323), ('fe_279.png', 324), ('fe_237.png', 327), ('fe_253.png', 327), ('fe_181.png', 338), ('fe_211.png', 338), ('fe_26.png', 342), ('fe_185.png', 349), ('fe_226.png', 350), ('fe_174.png', 351), ('fe_197.png', 351), ('fe_212.png', 355), ('fe_236.png', 355), ('fe_193.png', 357), ('fe_204.png', 364), ('fe_16.png', 371), ('fe_203.png', 373), ('fe_206.png', 374), ('fe_17.png', 377), ('fe_207.png', 378), ('fe_2.png', 383), ('fe_201.png', 385), ('fe_173.png', 388), ('fe_147.png', 393), ('fe_150.png', 395), ('fe_159.png', 399), ('fe_191.png', 408), ('fe_110.png', 422), ('fe_184.png', 427), ('fe_125.png', 428), ('fe_151.png', 428), ('fe_153.png', 434), ('fe_166.png', 435), ('fe_128.png', 442), ('fe_143.png', 445), ('fe_10.png', 452), ('fe_1.png', 460), ('fe_11.png', 465)]\n"
     ]
    }
   ],
   "source": [
    "# use three participants result to generate a new list\n",
    "def addScoreFromRes(res, my_dic):\n",
    "    for i in range(len(res)):\n",
    "        my_dic[res[i]] += i\n",
    "    return my_dic\n",
    "\n",
    "# add score from three participants\n",
    "raw_img_score_dic = addScoreFromRes(res_fear1, raw_img_score_dic)\n",
    "raw_img_score_dic = addScoreFromRes(res_fear2, raw_img_score_dic)\n",
    "raw_img_score_dic = addScoreFromRes(res_fear3, raw_img_score_dic)\n",
    "raw_img_score_dic = addScoreFromRes(res_fear4, raw_img_score_dic)\n",
    "raw_img_score_dic = addScoreFromRes(res_fear5, raw_img_score_dic)\n",
    "\n",
    "# sort the dic\n",
    "sorted_img_score_dic = sorted(raw_img_score_dic.items(), key=lambda x: x[1], reverse=False)\n",
    "print(sorted_img_score_dic)\n",
    "    "
   ]
  },
  {
   "cell_type": "code",
   "execution_count": 57,
   "id": "922cb68e",
   "metadata": {},
   "outputs": [
    {
     "name": "stdout",
     "output_type": "stream",
     "text": [
      "['fe_93.png', 'fe_91.png', 'fe_59.png', 'fe_53.png', 'fe_5.png', 'fe_90.png', 'fe_95.png', 'fe_499.png', 'fe_84.png', 'fe_472.png', 'fe_484.png', 'fe_7.png', 'fe_475.png', 'fe_477.png', 'fe_451.png', 'fe_427.png', 'fe_8.png', 'fe_43.png', 'fe_449.png', 'fe_473.png', 'fe_431.png', 'fe_69.png', 'fe_441.png', 'fe_396.png', 'fe_46.png', 'fe_57.png', 'fe_385.png', 'fe_406.png', 'fe_408.png', 'fe_39.png', 'fe_382.png', 'fe_420.png', 'fe_356.png', 'fe_390.png', 'fe_380.png', 'fe_393.png', 'fe_442.png', 'fe_417.png', 'fe_42.png', 'fe_313.png', 'fe_376.png', 'fe_381.png', 'fe_362.png', 'fe_402.png', 'fe_364.png', 'fe_349.png', 'fe_29.png', 'fe_30.png', 'fe_260.png', 'fe_345.png', 'fe_38.png', 'fe_287.png', 'fe_340.png', 'fe_34.png', 'fe_232.png', 'fe_307.png', 'fe_336.png', 'fe_303.png', 'fe_291.png', 'fe_249.png', 'fe_300.png', 'fe_238.png', 'fe_202.png', 'fe_22.png', 'fe_271.png', 'fe_279.png', 'fe_237.png', 'fe_253.png', 'fe_181.png', 'fe_211.png', 'fe_26.png', 'fe_185.png', 'fe_226.png', 'fe_174.png', 'fe_197.png', 'fe_212.png', 'fe_236.png', 'fe_193.png', 'fe_204.png', 'fe_16.png', 'fe_203.png', 'fe_206.png', 'fe_17.png', 'fe_207.png', 'fe_2.png', 'fe_201.png', 'fe_173.png', 'fe_147.png', 'fe_150.png', 'fe_159.png', 'fe_191.png', 'fe_110.png', 'fe_184.png', 'fe_125.png', 'fe_151.png', 'fe_153.png', 'fe_166.png', 'fe_128.png', 'fe_143.png', 'fe_10.png', 'fe_1.png', 'fe_11.png']\n"
     ]
    }
   ],
   "source": [
    "aver_5 = [x[0] for x in sorted_img_score_dic]\n",
    "# aver_3.reverse()\n",
    "# already reversed\n",
    "print(aver_5)"
   ]
  },
  {
   "cell_type": "code",
   "execution_count": 58,
   "id": "b5292039",
   "metadata": {},
   "outputs": [
    {
     "name": "stdout",
     "output_type": "stream",
     "text": [
      "['fe_93.png', 'fe_91.png', 'fe_59.png', 'fe_53.png', 'fe_5.png']\n"
     ]
    }
   ],
   "source": [
    "print(aver_5[:5])"
   ]
  },
  {
   "cell_type": "code",
   "execution_count": null,
   "id": "8e1b92e7",
   "metadata": {},
   "outputs": [],
   "source": []
  }
 ],
 "metadata": {
  "kernelspec": {
   "display_name": "Python 3 (ipykernel)",
   "language": "python",
   "name": "python3"
  },
  "language_info": {
   "codemirror_mode": {
    "name": "ipython",
    "version": 3
   },
   "file_extension": ".py",
   "mimetype": "text/x-python",
   "name": "python",
   "nbconvert_exporter": "python",
   "pygments_lexer": "ipython3",
   "version": "3.8.3"
  },
  "vscode": {
   "interpreter": {
    "hash": "31f2aee4e71d21fbe5cf8b01ff0e069b9275f58929596ceb00d14d90e3e16cd6"
   }
  }
 },
 "nbformat": 4,
 "nbformat_minor": 5
}
