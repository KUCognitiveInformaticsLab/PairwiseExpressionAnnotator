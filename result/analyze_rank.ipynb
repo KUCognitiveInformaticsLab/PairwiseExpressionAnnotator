{
 "cells": [
  {
   "cell_type": "code",
   "execution_count": 14,
   "id": "9f2c46a7-4885-492d-8b18-735b77aae278",
   "metadata": {},
   "outputs": [],
   "source": [
    "import os \n",
    "import json"
   ]
  },
  {
   "cell_type": "code",
   "execution_count": 15,
   "id": "fd10032d-8fe6-47a9-baf7-c8b213f0458a",
   "metadata": {},
   "outputs": [],
   "source": [
    "# set the file path here\n",
    "def read_json_file(filePath):\n",
    "    with open(filePath) as f:\n",
    "        data = json.load(f)\n",
    "    return data\n",
    "# filePath = os.path.join('data/1_zhengliang.json')\n",
    "# temp_json = json.load(open(filePath))"
   ]
  },
  {
   "cell_type": "code",
   "execution_count": 16,
   "id": "d0590ec6-a0e0-4076-876a-eb609960c0ff",
   "metadata": {},
   "outputs": [
    {
     "name": "stdout",
     "output_type": "stream",
     "text": [
      "dict_keys(['userData', 'experiment_name', 'experiment_instance', 'condition', 'worker_id', 'payload', 'totalTime'])\n",
      "520\n"
     ]
    }
   ],
   "source": [
    "temp_json = read_json_file('data/1_zhengliang.json')\n",
    "print(temp_json.keys())\n",
    "print(len(temp_json[\"payload\"]['pairwise_rating']))"
   ]
  },
  {
   "cell_type": "code",
   "execution_count": 17,
   "id": "1e853d29-d077-4117-9ec3-45874fe5dcf0",
   "metadata": {},
   "outputs": [],
   "source": [
    "def getImg(img):\n",
    "    # return img[91:] # happiness_selected_imgonly100/ha_106\n",
    "    return img[121:]\n",
    "\n",
    "def generateCleanList(temp_json):\n",
    "    cleanedList = []\n",
    "    for i in temp_json[\"payload\"]['pairwise_rating']:\n",
    "        tempimg1 = getImg(i[0])\n",
    "        tempimg2 = getImg(i[1])\n",
    "        cleanedList.append([tempimg1, tempimg2, i[2]])\n",
    "    return cleanedList\n",
    "\n",
    "# cleanedList = generateCleanList(read_json_file('data/1_zhengliang.json'))\n",
    "cleanedList = generateCleanList(read_json_file('/Users/y.dongdong/Downloads/labwebexperiment/result/data/4_dongsheng.txt'))"
   ]
  },
  {
   "cell_type": "code",
   "execution_count": 18,
   "id": "db281aec",
   "metadata": {},
   "outputs": [],
   "source": [
    "# test\n",
    "raw_list = ['image_num_7', 'image_num_1', 'image_num_9', 'image_num_3', 'image_num_5']\n",
    "raw_ref_list = [['image_num_7', 'image_num_1', -1], ['image_num_3', 'image_num_9', 1], ['image_num_5', 'image_num_9', 1], ['image_num_5', 'image_num_3', -1], ['image_num_7', 'image_num_9', 1], ['image_num_7', 'image_num_5', -1], ['image_num_1', 'image_num_5', 1], ['image_num_1', 'image_num_3', 1]]\n",
    "def compare(img1, img2, reflist):\n",
    "    for i in reflist:\n",
    "        print(i)\n",
    "        print(img1, img2)\n",
    "        if (i[0] == img1 and i[1] == img2) or (i[0] == img2 and i[1] == img1):\n",
    "            return i[2]\n",
    "    raise Exception(\"Image not found in list\", img1, img2)\n",
    "\n",
    "def mergeSortPairwiseRecursive(alist, reflist):\n",
    "    # Base case: if there is only one image, return it\n",
    "    if (len(alist) <= 1):\n",
    "        return alist\n",
    "\n",
    "    # Recursive case: if there are more than one image, split the list into two halves\n",
    "    mid = len(alist)//2\n",
    "    lefthalf = alist[:mid]\n",
    "    righthalf = alist[mid:]\n",
    "\n",
    "    # Recursive call: sort the two halves\n",
    "    mergeSortPairwiseRecursive(lefthalf, reflist)\n",
    "    mergeSortPairwiseRecursive(righthalf, reflist)\n",
    "\n",
    "    # Merge the two halves\n",
    "    merged = []\n",
    "    i, j = 0, 0\n",
    "    while i < len(lefthalf) and j < len(righthalf):\n",
    "        cmp = compare(lefthalf[i], righthalf[j], reflist)\n",
    "        if cmp == -1:\n",
    "            merged.append(lefthalf[i])\n",
    "            i += 1\n",
    "        elif cmp == 1:\n",
    "            merged.append(righthalf[j])\n",
    "            j += 1\n",
    "        else:\n",
    "            raise Exception(\"Comparison not found in list\")\n",
    "\n",
    "    # Add the remaining elements\n",
    "    while i < len(lefthalf):\n",
    "        merged.append(lefthalf[i])\n",
    "        i += 1\n",
    "    while j < len(righthalf):\n",
    "        merged.append(righthalf[j])\n",
    "        j += 1\n",
    "\n",
    "    return merged\n",
    "\n",
    "def swap(target_list, posa, posb):\n",
    "    # print('swap', posa, posb)\n",
    "    target_list[posa], target_list[posb] = target_list[posb], target_list[posa]\n",
    "    return target_list\n",
    "\n",
    "def mergeOnlyPairwise(raw_list, raw_ref_list):\n",
    "    temp_list = raw_list\n",
    "    for i in raw_ref_list:\n",
    "        if i[2] == -1 and temp_list.index(i[0]) < temp_list.index(i[1]):\n",
    "            temp_list = swap(temp_list, temp_list.index(i[0]), temp_list.index(i[1]))\n",
    "        elif i[2] == 1 and temp_list.index(i[0]) > temp_list.index(i[1]):\n",
    "            temp_list = swap(temp_list, temp_list.index(i[0]), temp_list.index(i[1]))\n",
    "\n",
    "\n",
    "\n",
    "    return temp_list\n",
    "\n",
    "# new_list = mergeOnlyPairwise(raw_list, raw_ref_list)\n",
    "# print(new_list)\n",
    "# new_list = mergeOnlyPairwise(new_list, raw_ref_list)\n",
    "# print(new_list)"
   ]
  },
  {
   "cell_type": "code",
   "execution_count": 19,
   "id": "f859445d",
   "metadata": {},
   "outputs": [],
   "source": [
    "# write a merge sort function in python\n",
    "\n",
    "def mergeFromPairwiseRating(cleanedList):\n",
    "    mergeList = ['ha_367.png', 'ha_84.png', 'ha_207.png', 'ha_2.png', 'ha_212.png', 'ha_399.png', 'ha_428.png', 'ha_172.png', 'ha_50.png', 'ha_1.png', 'ha_407.png', 'ha_201.png', 'ha_215.png', 'ha_5.png', 'ha_348.png', 'ha_54.png', 'ha_412.png', 'ha_174.png', 'ha_404.png', 'ha_202.png', 'ha_43.png', 'ha_377.png', 'ha_149.png', 'ha_106.png', 'ha_24.png', 'ha_476.png', 'ha_310.png', 'ha_489.png', 'ha_477.png', 'ha_311.png', 'ha_19.png', 'ha_107.png', 'ha_139.png', 'ha_111.png', 'ha_33.png', 'ha_27.png', 'ha_475.png', 'ha_32.png', 'ha_110.png', 'ha_128.png', 'ha_262.png', 'ha_288.png', 'ha_303.png', 'ha_301.png', 'ha_315.png', 'ha_329.png', 'ha_249.png', 'ha_314.png', 'ha_466.png', 'ha_116.png', 'ha_11.png', 'ha_443.png', 'ha_292.png', 'ha_244.png', 'ha_442.png', 'ha_132.png', 'ha_130.png', 'ha_124.png', 'ha_454.png', 'ha_497.png', 'ha_252.png', 'ha_284.png', 'ha_482.png', 'ha_131.png', 'ha_119.png', 'ha_451.png', 'ha_243.png', 'ha_257.png', 'ha_256.png', 'ha_16.png', 'ha_450.png', 'ha_122.png', 'ha_320.png', 'ha_334.png', 'ha_491.png', 'ha_268.png', 'ha_296.png', 'ha_241.png', 'ha_233.png', 'ha_384.png', 'ha_186.png', 'ha_151.png', 'ha_145.png', 'ha_184.png', 'ha_59.png', 'ha_9.png', 'ha_393.png', 'ha_344.png', 'ha_422.png', 'ha_185.png', 'ha_152.png', 'ha_368.png', 'ha_235.png', 'ha_221.png', 'ha_382.png', 'ha_396.png', 'ha_341.png', 'ha_380.png', 'ha_381.png', 'ha_342.png']\n",
    "    mergeListPairwiseRef = []\n",
    "    for i in cleanedList:\n",
    "        mergeListPairwiseRef.append([i[0] + '.png', i[1] + '.png', i[2]])\n",
    "\n",
    "    import copy\n",
    "    counter = 0\n",
    "    last_list = []\n",
    "    new_list = mergeOnlyPairwise(mergeList, mergeListPairwiseRef)\n",
    "    for i in range(100):\n",
    "        # if new_list == last_list:\n",
    "        if all(x == y for x, y in zip(new_list, last_list)):\n",
    "            if counter < 5:\n",
    "                print(i, 'done')\n",
    "                counter += 1\n",
    "            last_list = copy.deepcopy(new_list)\n",
    "        else:\n",
    "            last_list = copy.deepcopy(new_list)\n",
    "        new_list = mergeOnlyPairwise(new_list, mergeListPairwiseRef)\n",
    "    \n",
    "    return new_list\n",
    "\n",
    "def mergeFromPairwiseRatingNum(numlist, cleanedList):\n",
    "    mergeList = numlist\n",
    "    mergeListPairwiseRef = cleanedList\n",
    "\n",
    "    import copy\n",
    "    counter = 0\n",
    "    last_list = []\n",
    "    new_list = mergeOnlyPairwise(mergeList, mergeListPairwiseRef)\n",
    "    for i in range(100):\n",
    "        if all(x == y for x, y in zip(new_list, last_list)):\n",
    "            if counter < 5:\n",
    "                print(i, 'done')\n",
    "                counter += 1\n",
    "            last_list = copy.deepcopy(new_list)\n",
    "        else:\n",
    "            last_list = copy.deepcopy(new_list)\n",
    "        new_list = mergeOnlyPairwise(new_list, mergeListPairwiseRef)\n",
    "    \n",
    "    return new_list\n"
   ]
  },
  {
   "cell_type": "code",
   "execution_count": 20,
   "id": "b1d4745d",
   "metadata": {},
   "outputs": [
    {
     "name": "stdout",
     "output_type": "stream",
     "text": [
      "0 done\n",
      "2 done\n",
      "3 done\n",
      "4 done\n",
      "5 done\n",
      "['image_num_1', 'image_num_3', 'image_num_5', 'image_num_7', 'image_num_9']\n"
     ]
    }
   ],
   "source": [
    "# Reference\n",
    "raw_list = ['image_num_7', 'image_num_1', 'image_num_9', 'image_num_3', 'image_num_5']\n",
    "raw_ref_list = [['image_num_7', 'image_num_1', -1], ['image_num_3', 'image_num_9', 1], ['image_num_5', 'image_num_9', 1], ['image_num_5', 'image_num_3', -1], ['image_num_7', 'image_num_9', 1], ['image_num_7', 'image_num_5', -1], ['image_num_1', 'image_num_5', 1], ['image_num_1', 'image_num_3', 1]]\n",
    "res_num = mergeFromPairwiseRatingNum(raw_list, raw_ref_list)\n",
    "print(res_num)"
   ]
  },
  {
   "cell_type": "markdown",
   "id": "bc65a2c3",
   "metadata": {},
   "source": [
    "# Participant analysis"
   ]
  },
  {
   "cell_type": "code",
   "execution_count": 21,
   "id": "a8091cd0",
   "metadata": {},
   "outputs": [],
   "source": [
    "# set the file path here\n",
    "def read_jsons_file(filePath):\n",
    "    data = [json.loads(line) for line in open(filePath, 'r', encoding='utf-8')]\n",
    "    return data\n",
    "temp_json = read_json_file('/Users/y.dongdong/Downloads/labwebexperiment/result/data/1_zhengliang.json')\n",
    "temp_json_2_3 = read_jsons_file('/Users/y.dongdong/Downloads/labwebexperiment/result/data/2_zitang_3_yenju.txt')\n",
    "temp_json_2, temp_json_3 = temp_json_2_3"
   ]
  },
  {
   "cell_type": "code",
   "execution_count": 22,
   "id": "609c00b8",
   "metadata": {},
   "outputs": [
    {
     "name": "stdout",
     "output_type": "stream",
     "text": [
      "0 done\n",
      "7 done\n",
      "8 done\n",
      "9 done\n",
      "10 done\n"
     ]
    }
   ],
   "source": [
    "# zhengliang\n",
    "cleanedList = generateCleanList(temp_json)\n",
    "res_zhengliang = mergeFromPairwiseRating(cleanedList)\n",
    "res_zhengliang.reverse()"
   ]
  },
  {
   "cell_type": "code",
   "execution_count": 23,
   "id": "6c68b8f3",
   "metadata": {},
   "outputs": [
    {
     "name": "stdout",
     "output_type": "stream",
     "text": [
      "0 done\n",
      "18 done\n",
      "19 done\n",
      "20 done\n",
      "21 done\n"
     ]
    }
   ],
   "source": [
    "# zitang\n",
    "cleanedList = generateCleanList(temp_json_2)\n",
    "res_zitang = mergeFromPairwiseRating(cleanedList)\n",
    "res_zitang.reverse()"
   ]
  },
  {
   "cell_type": "code",
   "execution_count": 24,
   "id": "706842f1",
   "metadata": {},
   "outputs": [
    {
     "name": "stdout",
     "output_type": "stream",
     "text": [
      "0 done\n",
      "10 done\n",
      "11 done\n",
      "12 done\n",
      "13 done\n"
     ]
    }
   ],
   "source": [
    "\n",
    "# yenju\n",
    "cleanedList = generateCleanList(temp_json_3)\n",
    "res_yenju = mergeFromPairwiseRating(cleanedList)\n",
    "res_yenju.reverse()"
   ]
  },
  {
   "cell_type": "code",
   "execution_count": null,
   "id": "0fa8b951",
   "metadata": {},
   "outputs": [],
   "source": []
  },
  {
   "cell_type": "code",
   "execution_count": 25,
   "id": "f72f2fd6",
   "metadata": {},
   "outputs": [
    {
     "name": "stdout",
     "output_type": "stream",
     "text": [
      "0 done\n",
      "11 done\n",
      "12 done\n",
      "13 done\n",
      "14 done\n"
     ]
    }
   ],
   "source": [
    "# dongsheng\n",
    "temp_json_4 = read_jsons_file('/Users/y.dongdong/Downloads/labwebexperiment/result/data/4_dongsheng.txt')\n",
    "cleanedList = generateCleanList(read_json_file('/Users/y.dongdong/Downloads/labwebexperiment/result/data/4_dongsheng.txt'))\n",
    "# cleanedList = generateCleanList(temp_json_4)\n",
    "res_dongsheng = mergeFromPairwiseRating(cleanedList)\n",
    "res_dongsheng.reverse()"
   ]
  },
  {
   "cell_type": "code",
   "execution_count": 26,
   "id": "daad4010",
   "metadata": {},
   "outputs": [
    {
     "name": "stdout",
     "output_type": "stream",
     "text": [
      "res_zhengliang\n",
      " ['ha_27.png', 'ha_393.png', 'ha_428.png', 'ha_212.png', 'ha_367.png', 'ha_50.png', 'ha_11.png', 'ha_497.png', 'ha_235.png', 'ha_19.png', 'ha_412.png', 'ha_489.png', 'ha_443.png', 'ha_185.png', 'ha_201.png', 'ha_33.png', 'ha_24.png', 'ha_202.png', 'ha_221.png', 'ha_311.png', 'ha_422.png', 'ha_491.png', 'ha_172.png', 'ha_256.png', 'ha_442.png', 'ha_243.png', 'ha_348.png', 'ha_342.png', 'ha_341.png', 'ha_320.png', 'ha_106.png', 'ha_296.png', 'ha_384.png', 'ha_407.png', 'ha_284.png', 'ha_131.png', 'ha_377.png', 'ha_315.png', 'ha_450.png', 'ha_476.png', 'ha_329.png', 'ha_301.png', 'ha_122.png', 'ha_288.png', 'ha_368.png', 'ha_152.png', 'ha_344.png', 'ha_107.png', 'ha_249.png', 'ha_184.png', 'ha_241.png', 'ha_110.png', 'ha_1.png', 'ha_32.png', 'ha_132.png', 'ha_451.png', 'ha_215.png', 'ha_59.png', 'ha_466.png', 'ha_244.png', 'ha_252.png', 'ha_380.png', 'ha_477.png', 'ha_268.png', 'ha_130.png', 'ha_454.png', 'ha_207.png', 'ha_111.png', 'ha_149.png', 'ha_475.png', 'ha_124.png', 'ha_145.png', 'ha_303.png', 'ha_54.png', 'ha_482.png', 'ha_174.png', 'ha_262.png', 'ha_233.png', 'ha_292.png', 'ha_128.png', 'ha_151.png', 'ha_334.png', 'ha_314.png', 'ha_396.png', 'ha_186.png', 'ha_9.png', 'ha_43.png', 'ha_116.png', 'ha_404.png', 'ha_310.png', 'ha_381.png', 'ha_84.png', 'ha_16.png', 'ha_119.png', 'ha_399.png', 'ha_139.png', 'ha_5.png', 'ha_2.png', 'ha_382.png', 'ha_257.png']\n",
      "\n",
      "res_zitang\n",
      " ['ha_367.png', 'ha_315.png', 'ha_428.png', 'ha_393.png', 'ha_212.png', 'ha_50.png', 'ha_288.png', 'ha_184.png', 'ha_107.png', 'ha_130.png', 'ha_24.png', 'ha_412.png', 'ha_186.png', 'ha_268.png', 'ha_244.png', 'ha_348.png', 'ha_185.png', 'ha_19.png', 'ha_334.png', 'ha_301.png', 'ha_450.png', 'ha_407.png', 'ha_341.png', 'ha_451.png', 'ha_303.png', 'ha_491.png', 'ha_5.png', 'ha_241.png', 'ha_207.png', 'ha_477.png', 'ha_124.png', 'ha_252.png', 'ha_422.png', 'ha_342.png', 'ha_32.png', 'ha_311.png', 'ha_152.png', 'ha_497.png', 'ha_2.png', 'ha_11.png', 'ha_296.png', 'ha_489.png', 'ha_344.png', 'ha_151.png', 'ha_59.png', 'ha_149.png', 'ha_382.png', 'ha_84.png', 'ha_396.png', 'ha_9.png', 'ha_128.png', 'ha_202.png', 'ha_139.png', 'ha_310.png', 'ha_111.png', 'ha_314.png', 'ha_482.png', 'ha_381.png', 'ha_443.png', 'ha_122.png', 'ha_33.png', 'ha_475.png', 'ha_43.png', 'ha_377.png', 'ha_329.png', 'ha_380.png', 'ha_132.png', 'ha_404.png', 'ha_131.png', 'ha_476.png', 'ha_221.png', 'ha_399.png', 'ha_243.png', 'ha_201.png', 'ha_384.png', 'ha_235.png', 'ha_442.png', 'ha_284.png', 'ha_1.png', 'ha_106.png', 'ha_466.png', 'ha_249.png', 'ha_262.png', 'ha_320.png', 'ha_172.png', 'ha_454.png', 'ha_256.png', 'ha_54.png', 'ha_368.png', 'ha_292.png', 'ha_257.png', 'ha_174.png', 'ha_145.png', 'ha_16.png', 'ha_233.png', 'ha_119.png', 'ha_110.png', 'ha_215.png', 'ha_27.png', 'ha_116.png']\n",
      "\n",
      "res_yenju\n",
      " ['ha_54.png', 'ha_235.png', 'ha_202.png', 'ha_489.png', 'ha_443.png', 'ha_341.png', 'ha_32.png', 'ha_491.png', 'ha_288.png', 'ha_201.png', 'ha_243.png', 'ha_215.png', 'ha_268.png', 'ha_422.png', 'ha_151.png', 'ha_412.png', 'ha_212.png', 'ha_27.png', 'ha_301.png', 'ha_368.png', 'ha_43.png', 'ha_384.png', 'ha_107.png', 'ha_393.png', 'ha_130.png', 'ha_407.png', 'ha_450.png', 'ha_256.png', 'ha_348.png', 'ha_2.png', 'ha_320.png', 'ha_329.png', 'ha_454.png', 'ha_149.png', 'ha_428.png', 'ha_185.png', 'ha_466.png', 'ha_404.png', 'ha_382.png', 'ha_24.png', 'ha_476.png', 'ha_482.png', 'ha_50.png', 'ha_292.png', 'ha_284.png', 'ha_396.png', 'ha_241.png', 'ha_33.png', 'ha_122.png', 'ha_132.png', 'ha_11.png', 'ha_186.png', 'ha_221.png', 'ha_249.png', 'ha_184.png', 'ha_367.png', 'ha_5.png', 'ha_106.png', 'ha_442.png', 'ha_315.png', 'ha_377.png', 'ha_233.png', 'ha_116.png', 'ha_303.png', 'ha_207.png', 'ha_399.png', 'ha_174.png', 'ha_119.png', 'ha_311.png', 'ha_296.png', 'ha_344.png', 'ha_262.png', 'ha_110.png', 'ha_257.png', 'ha_152.png', 'ha_497.png', 'ha_131.png', 'ha_19.png', 'ha_124.png', 'ha_1.png', 'ha_381.png', 'ha_310.png', 'ha_9.png', 'ha_111.png', 'ha_59.png', 'ha_380.png', 'ha_477.png', 'ha_475.png', 'ha_128.png', 'ha_451.png', 'ha_244.png', 'ha_172.png', 'ha_342.png', 'ha_145.png', 'ha_252.png', 'ha_314.png', 'ha_16.png', 'ha_84.png', 'ha_334.png', 'ha_139.png']\n",
      "\n",
      "res_dongsheng\n",
      " ['ha_489.png', 'ha_407.png', 'ha_256.png', 'ha_384.png', 'ha_243.png', 'ha_202.png', 'ha_235.png', 'ha_348.png', 'ha_2.png', 'ha_450.png', 'ha_428.png', 'ha_11.png', 'ha_24.png', 'ha_130.png', 'ha_212.png', 'ha_393.png', 'ha_311.png', 'ha_443.png', 'ha_201.png', 'ha_497.png', 'ha_412.png', 'ha_184.png', 'ha_368.png', 'ha_303.png', 'ha_288.png', 'ha_329.png', 'ha_19.png', 'ha_367.png', 'ha_301.png', 'ha_185.png', 'ha_249.png', 'ha_172.png', 'ha_341.png', 'ha_27.png', 'ha_342.png', 'ha_32.png', 'ha_110.png', 'ha_152.png', 'ha_215.png', 'ha_442.png', 'ha_1.png', 'ha_422.png', 'ha_344.png', 'ha_221.png', 'ha_106.png', 'ha_50.png', 'ha_491.png', 'ha_151.png', 'ha_54.png', 'ha_292.png', 'ha_132.png', 'ha_241.png', 'ha_296.png', 'ha_186.png', 'ha_454.png', 'ha_451.png', 'ha_257.png', 'ha_119.png', 'ha_122.png', 'ha_149.png', 'ha_131.png', 'ha_476.png', 'ha_320.png', 'ha_59.png', 'ha_207.png', 'ha_252.png', 'ha_404.png', 'ha_396.png', 'ha_268.png', 'ha_43.png', 'ha_244.png', 'ha_381.png', 'ha_139.png', 'ha_315.png', 'ha_107.png', 'ha_314.png', 'ha_116.png', 'ha_9.png', 'ha_310.png', 'ha_174.png', 'ha_466.png', 'ha_262.png', 'ha_145.png', 'ha_377.png', 'ha_475.png', 'ha_124.png', 'ha_128.png', 'ha_233.png', 'ha_16.png', 'ha_380.png', 'ha_477.png', 'ha_284.png', 'ha_5.png', 'ha_482.png', 'ha_382.png', 'ha_84.png', 'ha_111.png', 'ha_399.png', 'ha_33.png', 'ha_334.png']\n"
     ]
    }
   ],
   "source": [
    "print('res_zhengliang\\n', res_zhengliang)\n",
    "print()\n",
    "print('res_zitang\\n', res_zitang)\n",
    "print()\n",
    "print('res_yenju\\n', res_yenju)\n",
    "print()\n",
    "print('res_dongsheng\\n', res_dongsheng)\n",
    "# res_zhengliang = mergeFromPairwiseRating(cleanedList)"
   ]
  },
  {
   "cell_type": "code",
   "execution_count": 27,
   "id": "566940ca",
   "metadata": {},
   "outputs": [
    {
     "name": "stdout",
     "output_type": "stream",
     "text": [
      "['ha_1.png', 'ha_2.png', 'ha_5.png', 'ha_9.png', 'ha_11.png', 'ha_16.png', 'ha_19.png', 'ha_24.png', 'ha_27.png', 'ha_32.png', 'ha_33.png', 'ha_43.png', 'ha_50.png', 'ha_54.png', 'ha_59.png', 'ha_84.png', 'ha_106.png', 'ha_107.png', 'ha_110.png', 'ha_111.png', 'ha_116.png', 'ha_119.png', 'ha_122.png', 'ha_124.png', 'ha_128.png', 'ha_130.png', 'ha_131.png', 'ha_132.png', 'ha_139.png', 'ha_145.png', 'ha_149.png', 'ha_151.png', 'ha_152.png', 'ha_172.png', 'ha_174.png', 'ha_184.png', 'ha_185.png', 'ha_186.png', 'ha_201.png', 'ha_202.png', 'ha_207.png', 'ha_212.png', 'ha_215.png', 'ha_221.png', 'ha_233.png', 'ha_235.png', 'ha_241.png', 'ha_243.png', 'ha_244.png', 'ha_249.png', 'ha_252.png', 'ha_256.png', 'ha_257.png', 'ha_262.png', 'ha_268.png', 'ha_284.png', 'ha_288.png', 'ha_292.png', 'ha_296.png', 'ha_301.png', 'ha_303.png', 'ha_310.png', 'ha_311.png', 'ha_314.png', 'ha_315.png', 'ha_320.png', 'ha_329.png', 'ha_334.png', 'ha_341.png', 'ha_342.png', 'ha_344.png', 'ha_348.png', 'ha_367.png', 'ha_368.png', 'ha_377.png', 'ha_380.png', 'ha_381.png', 'ha_382.png', 'ha_384.png', 'ha_393.png', 'ha_396.png', 'ha_399.png', 'ha_404.png', 'ha_407.png', 'ha_412.png', 'ha_422.png', 'ha_428.png', 'ha_442.png', 'ha_443.png', 'ha_450.png', 'ha_451.png', 'ha_454.png', 'ha_466.png', 'ha_475.png', 'ha_476.png', 'ha_477.png', 'ha_482.png', 'ha_489.png', 'ha_491.png', 'ha_497.png']\n"
     ]
    }
   ],
   "source": [
    "# sort raw_img_name_list base on the number in the file name\n",
    "def sortRawImgNameList(raw_img_name_list):\n",
    "    import re\n",
    "    def atoi(text):\n",
    "        return int(text) if text.isdigit() else text\n",
    "\n",
    "    def natural_keys(text):\n",
    "        '''\n",
    "        alist.sort(key=natural_keys) sorts in human order\n",
    "        http://nedbatchelder.com/blog/200712/human_sorting.html\n",
    "        (See Toothy's implementation in the comments)\n",
    "        '''\n",
    "        return [atoi(c) for c in re.split(r'(\\d+)', text)]\n",
    "\n",
    "    raw_img_name_list.sort(key=natural_keys)\n",
    "    return raw_img_name_list\n",
    "\n",
    "# sort the list\n",
    "raw_img_name_list = ['ha_367.png', 'ha_84.png', 'ha_207.png', 'ha_2.png', 'ha_212.png', 'ha_399.png', 'ha_428.png', 'ha_172.png', 'ha_50.png', 'ha_1.png', 'ha_407.png', 'ha_201.png', 'ha_215.png', 'ha_5.png', 'ha_348.png', 'ha_54.png', 'ha_412.png', 'ha_174.png', 'ha_404.png', 'ha_202.png', 'ha_43.png', 'ha_377.png', 'ha_149.png', 'ha_106.png', 'ha_24.png', 'ha_476.png', 'ha_310.png', 'ha_489.png', 'ha_477.png', 'ha_311.png', 'ha_19.png', 'ha_107.png', 'ha_139.png', 'ha_111.png', 'ha_33.png', 'ha_27.png', 'ha_475.png', 'ha_32.png', 'ha_110.png', 'ha_128.png', 'ha_262.png', 'ha_288.png', 'ha_303.png', 'ha_301.png', 'ha_315.png', 'ha_329.png', 'ha_249.png', 'ha_314.png', 'ha_466.png', 'ha_116.png', 'ha_11.png', 'ha_443.png', 'ha_292.png', 'ha_244.png', 'ha_442.png', 'ha_132.png', 'ha_130.png', 'ha_124.png', 'ha_454.png', 'ha_497.png', 'ha_252.png', 'ha_284.png', 'ha_482.png', 'ha_131.png', 'ha_119.png', 'ha_451.png', 'ha_243.png', 'ha_257.png', 'ha_256.png', 'ha_16.png', 'ha_450.png', 'ha_122.png', 'ha_320.png', 'ha_334.png', 'ha_491.png', 'ha_268.png', 'ha_296.png', 'ha_241.png', 'ha_233.png', 'ha_384.png', 'ha_186.png', 'ha_151.png', 'ha_145.png', 'ha_184.png', 'ha_59.png', 'ha_9.png', 'ha_393.png', 'ha_344.png', 'ha_422.png', 'ha_185.png', 'ha_152.png', 'ha_368.png', 'ha_235.png', 'ha_221.png', 'ha_382.png', 'ha_396.png', 'ha_341.png', 'ha_380.png', 'ha_381.png', 'ha_342.png']\n",
    "myList = sortRawImgNameList(raw_img_name_list)\n",
    "print(myList)"
   ]
  },
  {
   "cell_type": "code",
   "execution_count": 28,
   "id": "4564fbfd",
   "metadata": {},
   "outputs": [
    {
     "name": "stdout",
     "output_type": "stream",
     "text": [
      "{'ha_367.png': 0, 'ha_84.png': 0, 'ha_207.png': 0, 'ha_2.png': 0, 'ha_212.png': 0, 'ha_399.png': 0, 'ha_428.png': 0, 'ha_172.png': 0, 'ha_50.png': 0, 'ha_1.png': 0, 'ha_407.png': 0, 'ha_201.png': 0, 'ha_215.png': 0, 'ha_5.png': 0, 'ha_348.png': 0, 'ha_54.png': 0, 'ha_412.png': 0, 'ha_174.png': 0, 'ha_404.png': 0, 'ha_202.png': 0, 'ha_43.png': 0, 'ha_377.png': 0, 'ha_149.png': 0, 'ha_106.png': 0, 'ha_24.png': 0, 'ha_476.png': 0, 'ha_310.png': 0, 'ha_489.png': 0, 'ha_477.png': 0, 'ha_311.png': 0, 'ha_19.png': 0, 'ha_107.png': 0, 'ha_139.png': 0, 'ha_111.png': 0, 'ha_33.png': 0, 'ha_27.png': 0, 'ha_475.png': 0, 'ha_32.png': 0, 'ha_110.png': 0, 'ha_128.png': 0, 'ha_262.png': 0, 'ha_288.png': 0, 'ha_303.png': 0, 'ha_301.png': 0, 'ha_315.png': 0, 'ha_329.png': 0, 'ha_249.png': 0, 'ha_314.png': 0, 'ha_466.png': 0, 'ha_116.png': 0, 'ha_11.png': 0, 'ha_443.png': 0, 'ha_292.png': 0, 'ha_244.png': 0, 'ha_442.png': 0, 'ha_132.png': 0, 'ha_130.png': 0, 'ha_124.png': 0, 'ha_454.png': 0, 'ha_497.png': 0, 'ha_252.png': 0, 'ha_284.png': 0, 'ha_482.png': 0, 'ha_131.png': 0, 'ha_119.png': 0, 'ha_451.png': 0, 'ha_243.png': 0, 'ha_257.png': 0, 'ha_256.png': 0, 'ha_16.png': 0, 'ha_450.png': 0, 'ha_122.png': 0, 'ha_320.png': 0, 'ha_334.png': 0, 'ha_491.png': 0, 'ha_268.png': 0, 'ha_296.png': 0, 'ha_241.png': 0, 'ha_233.png': 0, 'ha_384.png': 0, 'ha_186.png': 0, 'ha_151.png': 0, 'ha_145.png': 0, 'ha_184.png': 0, 'ha_59.png': 0, 'ha_9.png': 0, 'ha_393.png': 0, 'ha_344.png': 0, 'ha_422.png': 0, 'ha_185.png': 0, 'ha_152.png': 0, 'ha_368.png': 0, 'ha_235.png': 0, 'ha_221.png': 0, 'ha_382.png': 0, 'ha_396.png': 0, 'ha_341.png': 0, 'ha_380.png': 0, 'ha_381.png': 0, 'ha_342.png': 0}\n"
     ]
    }
   ],
   "source": [
    "raw_img_name_list = ['ha_367.png', 'ha_84.png', 'ha_207.png', 'ha_2.png', 'ha_212.png', 'ha_399.png', 'ha_428.png', 'ha_172.png', 'ha_50.png', 'ha_1.png', 'ha_407.png', 'ha_201.png', 'ha_215.png', 'ha_5.png', 'ha_348.png', 'ha_54.png', 'ha_412.png', 'ha_174.png', 'ha_404.png', 'ha_202.png', 'ha_43.png', 'ha_377.png', 'ha_149.png', 'ha_106.png', 'ha_24.png', 'ha_476.png', 'ha_310.png', 'ha_489.png', 'ha_477.png', 'ha_311.png', 'ha_19.png', 'ha_107.png', 'ha_139.png', 'ha_111.png', 'ha_33.png', 'ha_27.png', 'ha_475.png', 'ha_32.png', 'ha_110.png', 'ha_128.png', 'ha_262.png', 'ha_288.png', 'ha_303.png', 'ha_301.png', 'ha_315.png', 'ha_329.png', 'ha_249.png', 'ha_314.png', 'ha_466.png', 'ha_116.png', 'ha_11.png', 'ha_443.png', 'ha_292.png', 'ha_244.png', 'ha_442.png', 'ha_132.png', 'ha_130.png', 'ha_124.png', 'ha_454.png', 'ha_497.png', 'ha_252.png', 'ha_284.png', 'ha_482.png', 'ha_131.png', 'ha_119.png', 'ha_451.png', 'ha_243.png', 'ha_257.png', 'ha_256.png', 'ha_16.png', 'ha_450.png', 'ha_122.png', 'ha_320.png', 'ha_334.png', 'ha_491.png', 'ha_268.png', 'ha_296.png', 'ha_241.png', 'ha_233.png', 'ha_384.png', 'ha_186.png', 'ha_151.png', 'ha_145.png', 'ha_184.png', 'ha_59.png', 'ha_9.png', 'ha_393.png', 'ha_344.png', 'ha_422.png', 'ha_185.png', 'ha_152.png', 'ha_368.png', 'ha_235.png', 'ha_221.png', 'ha_382.png', 'ha_396.png', 'ha_341.png', 'ha_380.png', 'ha_381.png', 'ha_342.png']\n",
    "raw_img_score_dic = {x: 0 for x in raw_img_name_list}\n",
    "print(raw_img_score_dic)"
   ]
  },
  {
   "cell_type": "code",
   "execution_count": 32,
   "id": "efde9c84",
   "metadata": {},
   "outputs": [
    {
     "name": "stdout",
     "output_type": "stream",
     "text": [
      "[('ha_212.png', 74), ('ha_393.png', 84), ('ha_428.png', 96), ('ha_489.png', 110), ('ha_412.png', 112), ('ha_202.png', 150), ('ha_348.png', 152), ('ha_24.png', 154), ('ha_407.png', 160), ('ha_288.png', 162), ('ha_367.png', 172), ('ha_341.png', 174), ('ha_235.png', 180), ('ha_443.png', 182), ('ha_450.png', 186), ('ha_185.png', 186), ('ha_50.png', 194), ('ha_491.png', 198), ('ha_301.png', 212), ('ha_11.png', 212), ('ha_422.png', 212), ('ha_130.png', 220), ('ha_243.png', 222), ('ha_201.png', 228), ('ha_32.png', 256), ('ha_19.png', 258), ('ha_384.png', 260), ('ha_184.png', 262), ('ha_311.png', 276), ('ha_497.png', 276), ('ha_256.png', 276), ('ha_27.png', 296), ('ha_107.png', 302), ('ha_268.png', 312), ('ha_329.png', 320), ('ha_315.png', 340), ('ha_2.png', 344), ('ha_368.png', 346), ('ha_241.png', 348), ('ha_303.png', 364), ('ha_221.png', 366), ('ha_151.png', 368), ('ha_342.png', 372), ('ha_296.png', 384), ('ha_152.png', 384), ('ha_442.png', 394), ('ha_186.png', 400), ('ha_344.png', 400), ('ha_215.png', 404), ('ha_320.png', 408), ('ha_149.png', 410), ('ha_122.png', 414), ('ha_54.png', 416), ('ha_476.png', 418), ('ha_106.png', 420), ('ha_249.png', 424), ('ha_132.png', 438), ('ha_33.png', 440), ('ha_207.png', 444), ('ha_451.png', 444), ('ha_172.png', 456), ('ha_244.png', 466), ('ha_454.png', 472), ('ha_43.png', 474), ('ha_131.png', 478), ('ha_377.png', 484), ('ha_396.png', 486), ('ha_284.png', 492), ('ha_59.png', 496), ('ha_1.png', 498), ('ha_252.png', 500), ('ha_466.png', 508), ('ha_110.png', 510), ('ha_404.png', 516), ('ha_292.png', 518), ('ha_124.png', 526), ('ha_482.png', 528), ('ha_477.png', 534), ('ha_5.png', 540), ('ha_382.png', 552), ('ha_9.png', 586), ('ha_334.png', 592), ('ha_381.png', 596), ('ha_111.png', 600), ('ha_380.png', 600), ('ha_310.png', 602), ('ha_475.png', 602), ('ha_128.png', 606), ('ha_314.png', 614), ('ha_262.png', 620), ('ha_174.png', 622), ('ha_119.png', 624), ('ha_139.png', 636), ('ha_257.png', 636), ('ha_233.png', 638), ('ha_116.png', 648), ('ha_399.png', 654), ('ha_84.png', 660), ('ha_145.png', 676), ('ha_16.png', 738)]\n"
     ]
    }
   ],
   "source": [
    "# use three participants result to generate a new list\n",
    "def addScoreFromRes(res, my_dic):\n",
    "    for i in range(len(res)):\n",
    "        my_dic[res[i]] += i\n",
    "    return my_dic\n",
    "\n",
    "# add score from three participants\n",
    "raw_img_score_dic = addScoreFromRes(res_zhengliang, raw_img_score_dic)\n",
    "raw_img_score_dic = addScoreFromRes(res_zitang, raw_img_score_dic)\n",
    "raw_img_score_dic = addScoreFromRes(res_yenju, raw_img_score_dic)\n",
    "raw_img_score_dic = addScoreFromRes(res_dongsheng, raw_img_score_dic)\n",
    "\n",
    "# sort the dic\n",
    "sorted_img_score_dic = sorted(raw_img_score_dic.items(), key=lambda x: x[1], reverse=False)\n",
    "print(sorted_img_score_dic)\n",
    "    "
   ]
  },
  {
   "cell_type": "code",
   "execution_count": 33,
   "id": "922cb68e",
   "metadata": {},
   "outputs": [
    {
     "name": "stdout",
     "output_type": "stream",
     "text": [
      "['ha_212.png', 'ha_393.png', 'ha_428.png', 'ha_489.png', 'ha_412.png', 'ha_202.png', 'ha_348.png', 'ha_24.png', 'ha_407.png', 'ha_288.png', 'ha_367.png', 'ha_341.png', 'ha_235.png', 'ha_443.png', 'ha_450.png', 'ha_185.png', 'ha_50.png', 'ha_491.png', 'ha_301.png', 'ha_11.png', 'ha_422.png', 'ha_130.png', 'ha_243.png', 'ha_201.png', 'ha_32.png', 'ha_19.png', 'ha_384.png', 'ha_184.png', 'ha_311.png', 'ha_497.png', 'ha_256.png', 'ha_27.png', 'ha_107.png', 'ha_268.png', 'ha_329.png', 'ha_315.png', 'ha_2.png', 'ha_368.png', 'ha_241.png', 'ha_303.png', 'ha_221.png', 'ha_151.png', 'ha_342.png', 'ha_296.png', 'ha_152.png', 'ha_442.png', 'ha_186.png', 'ha_344.png', 'ha_215.png', 'ha_320.png', 'ha_149.png', 'ha_122.png', 'ha_54.png', 'ha_476.png', 'ha_106.png', 'ha_249.png', 'ha_132.png', 'ha_33.png', 'ha_207.png', 'ha_451.png', 'ha_172.png', 'ha_244.png', 'ha_454.png', 'ha_43.png', 'ha_131.png', 'ha_377.png', 'ha_396.png', 'ha_284.png', 'ha_59.png', 'ha_1.png', 'ha_252.png', 'ha_466.png', 'ha_110.png', 'ha_404.png', 'ha_292.png', 'ha_124.png', 'ha_482.png', 'ha_477.png', 'ha_5.png', 'ha_382.png', 'ha_9.png', 'ha_334.png', 'ha_381.png', 'ha_111.png', 'ha_380.png', 'ha_310.png', 'ha_475.png', 'ha_128.png', 'ha_314.png', 'ha_262.png', 'ha_174.png', 'ha_119.png', 'ha_139.png', 'ha_257.png', 'ha_233.png', 'ha_116.png', 'ha_399.png', 'ha_84.png', 'ha_145.png', 'ha_16.png']\n"
     ]
    }
   ],
   "source": [
    "aver_4 = [x[0] for x in sorted_img_score_dic]\n",
    "# aver_3.reverse()\n",
    "# already reversed\n",
    "print(aver_4)"
   ]
  },
  {
   "cell_type": "code",
   "execution_count": 34,
   "id": "b5292039",
   "metadata": {},
   "outputs": [
    {
     "name": "stdout",
     "output_type": "stream",
     "text": [
      "['ha_212.png', 'ha_393.png', 'ha_428.png', 'ha_489.png', 'ha_412.png']\n"
     ]
    }
   ],
   "source": [
    "print(aver_4[:5])"
   ]
  },
  {
   "cell_type": "code",
   "execution_count": null,
   "id": "8e1b92e7",
   "metadata": {},
   "outputs": [],
   "source": []
  }
 ],
 "metadata": {
  "kernelspec": {
   "display_name": "Python 3 (ipykernel)",
   "language": "python",
   "name": "python3"
  },
  "language_info": {
   "codemirror_mode": {
    "name": "ipython",
    "version": 3
   },
   "file_extension": ".py",
   "mimetype": "text/x-python",
   "name": "python",
   "nbconvert_exporter": "python",
   "pygments_lexer": "ipython3",
   "version": "3.8.3"
  },
  "vscode": {
   "interpreter": {
    "hash": "31f2aee4e71d21fbe5cf8b01ff0e069b9275f58929596ceb00d14d90e3e16cd6"
   }
  }
 },
 "nbformat": 4,
 "nbformat_minor": 5
}
