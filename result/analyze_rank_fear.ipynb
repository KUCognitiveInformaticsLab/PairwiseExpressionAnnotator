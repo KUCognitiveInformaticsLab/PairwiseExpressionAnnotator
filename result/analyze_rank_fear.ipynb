{
 "cells": [
  {
   "cell_type": "code",
   "execution_count": 3,
   "id": "9f2c46a7-4885-492d-8b18-735b77aae278",
   "metadata": {},
   "outputs": [],
   "source": [
    "import os \n",
    "import json\n",
    "\n",
    "\n",
    "# ha\n",
    "IMG_NAME_LIST = ['ha_367.png', 'ha_84.png', 'ha_207.png', 'ha_2.png', 'ha_212.png', 'ha_399.png', 'ha_428.png', 'ha_172.png', 'ha_50.png', 'ha_1.png', 'ha_407.png', 'ha_201.png', 'ha_215.png', 'ha_5.png', 'ha_348.png', 'ha_54.png', 'ha_412.png', 'ha_174.png', 'ha_404.png', 'ha_202.png', 'ha_43.png', 'ha_377.png', 'ha_149.png', 'ha_106.png', 'ha_24.png', 'ha_476.png', 'ha_310.png', 'ha_489.png', 'ha_477.png', 'ha_311.png', 'ha_19.png', 'ha_107.png', 'ha_139.png', 'ha_111.png', 'ha_33.png', 'ha_27.png', 'ha_475.png', 'ha_32.png', 'ha_110.png', 'ha_128.png', 'ha_262.png', 'ha_288.png', 'ha_303.png', 'ha_301.png', 'ha_315.png', 'ha_329.png', 'ha_249.png', 'ha_314.png', 'ha_466.png', 'ha_116.png', 'ha_11.png', 'ha_443.png', 'ha_292.png', 'ha_244.png', 'ha_442.png', 'ha_132.png', 'ha_130.png', 'ha_124.png', 'ha_454.png', 'ha_497.png', 'ha_252.png', 'ha_284.png', 'ha_482.png', 'ha_131.png', 'ha_119.png', 'ha_451.png', 'ha_243.png', 'ha_257.png', 'ha_256.png', 'ha_16.png', 'ha_450.png', 'ha_122.png', 'ha_320.png', 'ha_334.png', 'ha_491.png', 'ha_268.png', 'ha_296.png', 'ha_241.png', 'ha_233.png', 'ha_384.png', 'ha_186.png', 'ha_151.png', 'ha_145.png', 'ha_184.png', 'ha_59.png', 'ha_9.png', 'ha_393.png', 'ha_344.png', 'ha_422.png', 'ha_185.png', 'ha_152.png', 'ha_368.png', 'ha_235.png', 'ha_221.png', 'ha_382.png', 'ha_396.png', 'ha_341.png', 'ha_380.png', 'ha_381.png', 'ha_342.png']\n",
    "# fe\n",
    "IMG_NAME_LIST = ['fe_382.png', 'fe_427.png', 'fe_291.png', 'fe_17.png', 'fe_22.png', 'fe_376.png', 'fe_193.png', 'fe_362.png', 'fe_253.png', 'fe_431.png', 'fe_393.png', 'fe_30.png', 'fe_10.png', 'fe_364.png', 'fe_442.png', 'fe_279.png', 'fe_42.png', 'fe_307.png', 'fe_356.png', 'fe_345.png', 'fe_385.png', 'fe_300.png', 'fe_91.png', 'fe_43.png', 'fe_38.png', 'fe_211.png', 'fe_212.png', 'fe_16.png', 'fe_153.png', 'fe_173.png', 'fe_406.png', 'fe_390.png', 'fe_84.png', 'fe_201.png', 'fe_93.png', 'fe_287.png', 'fe_2.png', 'fe_477.png', 'fe_396.png', 'fe_381.png', 'fe_472.png', 'fe_174.png', 'fe_475.png', 'fe_8.png', 'fe_451.png', 'fe_151.png', 'fe_69.png', 'fe_166.png', 'fe_46.png', 'fe_207.png', 'fe_29.png', 'fe_203.png', 'fe_226.png', 'fe_303.png', 'fe_420.png', 'fe_232.png', 'fe_7.png', 'fe_340.png', 'fe_249.png', 'fe_202.png', 'fe_313.png', 'fe_11.png', 'fe_53.png', 'fe_191.png', 'fe_271.png', 'fe_408.png', 'fe_349.png', 'fe_128.png', 'fe_449.png', 'fe_473.png', 'fe_185.png', 'fe_336.png', 'fe_260.png', 'fe_380.png', 'fe_197.png', 'fe_206.png', 'fe_125.png', 'fe_181.png', 'fe_441.png', 'fe_238.png', 'fe_110.png', 'fe_150.png', 'fe_184.png', 'fe_34.png', 'fe_204.png', 'fe_147.png', 'fe_95.png', 'fe_39.png', 'fe_236.png', 'fe_1.png', 'fe_237.png', 'fe_159.png', 'fe_26.png', 'fe_499.png', 'fe_143.png', 'fe_402.png', 'fe_57.png', 'fe_90.png', 'fe_417.png', 'fe_59.png', 'fe_5.png', 'fe_484.png']"
   ]
  },
  {
   "cell_type": "code",
   "execution_count": null,
   "id": "2c3495a9-1dd7-4137-bdc4-6f6f03150e46",
   "metadata": {},
   "outputs": [],
   "source": []
  },
  {
   "cell_type": "code",
   "execution_count": 4,
   "id": "420aa899-ced1-40e9-956e-695c0d5a73ea",
   "metadata": {},
   "outputs": [],
   "source": [
    "# files\n",
    "base_path = './data/fear/'\n",
    "filenames = os.listdir(base_path)\n",
    "filenames.sort()"
   ]
  },
  {
   "cell_type": "code",
   "execution_count": 5,
   "id": "9e052cea-a15f-4aba-bfab-dcd9e80948a9",
   "metadata": {},
   "outputs": [],
   "source": [
    "popflag = False\n",
    "for i in range(len(filenames)):\n",
    "    if '.DS_Store' not in filenames[i]:\n",
    "        filenames[i] = os.path.join(base_path, filenames[i])\n",
    "    else:\n",
    "        popflag = True\n",
    "if popflag:\n",
    "    filenames.pop(0)"
   ]
  },
  {
   "cell_type": "code",
   "execution_count": 6,
   "id": "5a0f7fee-4af5-43c5-972a-58bc9e44fb9d",
   "metadata": {},
   "outputs": [
    {
     "data": {
      "text/plain": [
       "['./data/fear/1_dongagent_fear.txt',\n",
       " './data/fear/2_imamura_fear.txt',\n",
       " './data/fear/3_tanaka_fear.txt',\n",
       " './data/fear/4_hirano_fear.txt',\n",
       " './data/fear/5_sun_fear.txt']"
      ]
     },
     "execution_count": 6,
     "metadata": {},
     "output_type": "execute_result"
    }
   ],
   "source": [
    "filenames"
   ]
  },
  {
   "cell_type": "code",
   "execution_count": 66,
   "id": "fd10032d-8fe6-47a9-baf7-c8b213f0458a",
   "metadata": {},
   "outputs": [],
   "source": [
    "# utils\n",
    "# run this first\n",
    "def read_json_file(filePath):\n",
    "    with open(filePath) as f:\n",
    "        data = json.load(f)\n",
    "    return data\n",
    "\n",
    "def read_folder_of_data(exp, folderPath):\n",
    "    fileNames = sorted(os.listdir(folderPath))\n",
    "    results = []\n",
    "    for i in fileNames:\n",
    "        temp = os.path.join(folderPath, i)\n",
    "        tempdata = read_json_file(temp)\n",
    "        \n",
    "        cleanedList = generateCleanList(exp, tempdata)\n",
    "        temp_res = mergeFromPairwiseRating(cleanedList)\n",
    "        temp_res.reverse()\n",
    "        \n",
    "        results.append([temp, temp_res])\n",
    "    return results\n",
    "        \n",
    "\n",
    "def getImg(exp, img):\n",
    "    if exp == 'happy':\n",
    "        return img[0:] # happiness_selected_imgonly100/ha_106\n",
    "    elif exp=='fear':\n",
    "        return img[21:]\n",
    "\n",
    "def generateCleanList(exp, temp_json):\n",
    "    cleanedList = temp_json[\"payload\"]['sortedlist']\n",
    "#     print(cleanedList)\n",
    "    for i, _ in enumerate(cleanedList):\n",
    "        cleanedList[i] = getImg(exp, cleanedList[i])\n",
    "    \n",
    "    # old method\n",
    "#     for i in temp_json[\"payload\"]['pairwise_rating']:\n",
    "#         tempimg1 = getImg(exp, i[0])\n",
    "#         tempimg2 = getImg(exp, i[1])\n",
    "#         cleanedList.append([tempimg1, tempimg2, i[2]])\n",
    "    return cleanedList\n"
   ]
  },
  {
   "cell_type": "markdown",
   "id": "03b1bd37-bf78-42bd-b63d-d1c97710addc",
   "metadata": {},
   "source": [
    "## Demo"
   ]
  },
  {
   "cell_type": "code",
   "execution_count": 67,
   "id": "cd00df55-cddc-4b0c-8aca-6f1c5b7a1916",
   "metadata": {},
   "outputs": [
    {
     "name": "stdout",
     "output_type": "stream",
     "text": [
      "['fe_396.png', 'fe_17.png', 'fe_382.png', 'fe_93.png', 'fe_427.png', 'fe_232.png', 'fe_53.png', 'fe_5.png', 'fe_110.png', 'fe_29.png', 'fe_431.png', 'fe_166.png', 'fe_472.png', 'fe_313.png', 'fe_499.png', 'fe_147.png', 'fe_150.png', 'fe_1.png', 'fe_206.png', 'fe_91.png', 'fe_128.png', 'fe_484.png', 'fe_57.png', 'fe_385.png', 'fe_173.png', 'fe_84.png', 'fe_356.png', 'fe_202.png', 'fe_174.png', 'fe_59.png', 'fe_151.png', 'fe_475.png', 'fe_90.png', 'fe_253.png', 'fe_197.png', 'fe_181.png', 'fe_16.png', 'fe_287.png', 'fe_10.png', 'fe_362.png', 'fe_279.png', 'fe_39.png', 'fe_207.png', 'fe_336.png', 'fe_303.png', 'fe_43.png', 'fe_406.png', 'fe_390.png', 'fe_30.png', 'fe_441.png', 'fe_211.png', 'fe_417.png', 'fe_393.png', 'fe_7.png', 'fe_376.png', 'fe_159.png', 'fe_11.png', 'fe_260.png', 'fe_38.png', 'fe_191.png', 'fe_473.png', 'fe_185.png', 'fe_291.png', 'fe_340.png', 'fe_238.png', 'fe_249.png', 'fe_193.png', 'fe_271.png', 'fe_125.png', 'fe_408.png', 'fe_451.png', 'fe_442.png', 'fe_42.png', 'fe_364.png', 'fe_477.png', 'fe_449.png', 'fe_345.png', 'fe_380.png', 'fe_204.png', 'fe_402.png', 'fe_143.png', 'fe_8.png', 'fe_95.png', 'fe_22.png', 'fe_69.png', 'fe_203.png', 'fe_307.png', 'fe_153.png', 'fe_184.png', 'fe_46.png', 'fe_226.png', 'fe_2.png', 'fe_34.png', 'fe_201.png', 'fe_26.png', 'fe_236.png', 'fe_212.png', 'fe_349.png', 'fe_237.png', 'fe_300.png', 'fe_420.png', 'fe_381.png']\n"
     ]
    }
   ],
   "source": [
    "ima_res = []\n",
    "ima_res = read_json_file(filenames[1])\n",
    "temp_cleanedList = generateCleanList(exp, ima_res)\n",
    "print(temp_cleanedList)"
   ]
  },
  {
   "cell_type": "code",
   "execution_count": 68,
   "id": "706971c6-1956-445b-b98e-9d8f6e74d4c7",
   "metadata": {
    "tags": []
   },
   "outputs": [
    {
     "name": "stdout",
     "output_type": "stream",
     "text": [
      "./data/fear/1_dongagent_fear.txt\n",
      "./data/fear/2_imamura_fear.txt\n",
      "./data/fear/3_tanaka_fear.txt\n",
      "./data/fear/4_hirano_fear.txt\n",
      "./data/fear/5_sun_fear.txt\n"
     ]
    }
   ],
   "source": [
    "\n",
    "exp = 'fear'\n",
    "# [[#ID 1, #res[]]]\n",
    "result = []\n",
    "counter = 1\n",
    "for i in filenames:\n",
    "    print(i)\n",
    "    temp = read_json_file(i)\n",
    "#     print(temp)\n",
    "    temp_cleanedList = generateCleanList(exp, temp)\n",
    "    # print(temp_merged_result)\n",
    "    result.append([counter, temp_cleanedList])\n",
    "    counter += 1\n",
    "    "
   ]
  },
  {
   "cell_type": "code",
   "execution_count": 69,
   "id": "6879e2e4-50df-4696-a256-641f9e6ffb57",
   "metadata": {},
   "outputs": [
    {
     "name": "stdout",
     "output_type": "stream",
     "text": [
      "[[1, ['fe_313.png', 'fe_260.png', 'fe_181.png', 'fe_356.png', 'fe_53.png', 'fe_396.png', 'fe_91.png', 'fe_385.png', 'fe_93.png', 'fe_59.png', 'fe_472.png', 'fe_174.png', 'fe_427.png', 'fe_29.png', 'fe_5.png', 'fe_16.png', 'fe_202.png', 'fe_147.png', 'fe_499.png', 'fe_232.png', 'fe_475.png', 'fe_185.png', 'fe_43.png', 'fe_150.png', 'fe_380.png', 'fe_30.png', 'fe_484.png', 'fe_382.png', 'fe_39.png', 'fe_17.png', 'fe_110.png', 'fe_362.png', 'fe_431.png', 'fe_451.png', 'fe_287.png', 'fe_197.png', 'fe_376.png', 'fe_193.png', 'fe_449.png', 'fe_159.png', 'fe_125.png', 'fe_441.png', 'fe_477.png', 'fe_390.png', 'fe_173.png', 'fe_406.png', 'fe_249.png', 'fe_22.png', 'fe_90.png', 'fe_408.png', 'fe_381.png', 'fe_349.png', 'fe_10.png', 'fe_393.png', 'fe_211.png', 'fe_7.png', 'fe_1.png', 'fe_473.png', 'fe_128.png', 'fe_238.png', 'fe_151.png', 'fe_364.png', 'fe_84.png', 'fe_95.png', 'fe_46.png', 'fe_143.png', 'fe_345.png', 'fe_237.png', 'fe_204.png', 'fe_11.png', 'fe_153.png', 'fe_2.png', 'fe_420.png', 'fe_203.png', 'fe_291.png', 'fe_212.png', 'fe_340.png', 'fe_201.png', 'fe_226.png', 'fe_253.png', 'fe_417.png', 'fe_402.png', 'fe_206.png', 'fe_166.png', 'fe_191.png', 'fe_303.png', 'fe_307.png', 'fe_271.png', 'fe_34.png', 'fe_42.png', 'fe_207.png', 'fe_236.png', 'fe_279.png', 'fe_38.png', 'fe_336.png', 'fe_184.png', 'fe_300.png', 'fe_8.png', 'fe_26.png', 'fe_69.png', 'fe_57.png', 'fe_442.png']], [2, ['fe_396.png', 'fe_17.png', 'fe_382.png', 'fe_93.png', 'fe_427.png', 'fe_232.png', 'fe_53.png', 'fe_5.png', 'fe_110.png', 'fe_29.png', 'fe_431.png', 'fe_166.png', 'fe_472.png', 'fe_313.png', 'fe_499.png', 'fe_147.png', 'fe_150.png', 'fe_1.png', 'fe_206.png', 'fe_91.png', 'fe_128.png', 'fe_484.png', 'fe_57.png', 'fe_385.png', 'fe_173.png', 'fe_84.png', 'fe_356.png', 'fe_202.png', 'fe_174.png', 'fe_59.png', 'fe_151.png', 'fe_475.png', 'fe_90.png', 'fe_253.png', 'fe_197.png', 'fe_181.png', 'fe_16.png', 'fe_287.png', 'fe_10.png', 'fe_362.png', 'fe_279.png', 'fe_39.png', 'fe_207.png', 'fe_336.png', 'fe_303.png', 'fe_43.png', 'fe_406.png', 'fe_390.png', 'fe_30.png', 'fe_441.png', 'fe_211.png', 'fe_417.png', 'fe_393.png', 'fe_7.png', 'fe_376.png', 'fe_159.png', 'fe_11.png', 'fe_260.png', 'fe_38.png', 'fe_191.png', 'fe_473.png', 'fe_185.png', 'fe_291.png', 'fe_340.png', 'fe_238.png', 'fe_249.png', 'fe_193.png', 'fe_271.png', 'fe_125.png', 'fe_408.png', 'fe_451.png', 'fe_442.png', 'fe_42.png', 'fe_364.png', 'fe_477.png', 'fe_449.png', 'fe_345.png', 'fe_380.png', 'fe_204.png', 'fe_402.png', 'fe_143.png', 'fe_8.png', 'fe_95.png', 'fe_22.png', 'fe_69.png', 'fe_203.png', 'fe_307.png', 'fe_153.png', 'fe_184.png', 'fe_46.png', 'fe_226.png', 'fe_2.png', 'fe_34.png', 'fe_201.png', 'fe_26.png', 'fe_236.png', 'fe_212.png', 'fe_349.png', 'fe_237.png', 'fe_300.png', 'fe_420.png', 'fe_381.png']], [3, ['fe_16.png', 'fe_59.png', 'fe_390.png', 'fe_475.png', 'fe_313.png', 'fe_427.png', 'fe_336.png', 'fe_472.png', 'fe_356.png', 'fe_38.png', 'fe_484.png', 'fe_202.png', 'fe_93.png', 'fe_125.png', 'fe_84.png', 'fe_382.png', 'fe_396.png', 'fe_191.png', 'fe_181.png', 'fe_30.png', 'fe_29.png', 'fe_91.png', 'fe_173.png', 'fe_406.png', 'fe_7.png', 'fe_385.png', 'fe_232.png', 'fe_380.png', 'fe_17.png', 'fe_441.png', 'fe_197.png', 'fe_393.png', 'fe_128.png', 'fe_22.png', 'fe_57.png', 'fe_5.png', 'fe_53.png', 'fe_287.png', 'fe_451.png', 'fe_185.png', 'fe_95.png', 'fe_291.png', 'fe_249.png', 'fe_449.png', 'fe_90.png', 'fe_271.png', 'fe_417.png', 'fe_442.png', 'fe_206.png', 'fe_11.png', 'fe_10.png', 'fe_473.png', 'fe_110.png', 'fe_166.png', 'fe_303.png', 'fe_151.png', 'fe_1.png', 'fe_226.png', 'fe_376.png', 'fe_211.png', 'fe_42.png', 'fe_150.png', 'fe_499.png', 'fe_147.png', 'fe_431.png', 'fe_236.png', 'fe_349.png', 'fe_174.png', 'fe_260.png', 'fe_203.png', 'fe_8.png', 'fe_402.png', 'fe_43.png', 'fe_381.png', 'fe_212.png', 'fe_364.png', 'fe_193.png', 'fe_46.png', 'fe_300.png', 'fe_362.png', 'fe_340.png', 'fe_143.png', 'fe_238.png', 'fe_69.png', 'fe_279.png', 'fe_477.png', 'fe_307.png', 'fe_253.png', 'fe_345.png', 'fe_408.png', 'fe_204.png', 'fe_39.png', 'fe_34.png', 'fe_184.png', 'fe_2.png', 'fe_420.png', 'fe_153.png', 'fe_159.png', 'fe_237.png', 'fe_26.png', 'fe_201.png', 'fe_207.png']], [4, ['fe_91.png', 'fe_59.png', 'fe_396.png', 'fe_499.png', 'fe_174.png', 'fe_385.png', 'fe_110.png', 'fe_16.png', 'fe_17.png', 'fe_356.png', 'fe_406.png', 'fe_484.png', 'fe_390.png', 'fe_313.png', 'fe_150.png', 'fe_10.png', 'fe_93.png', 'fe_53.png', 'fe_287.png', 'fe_43.png', 'fe_30.png', 'fe_475.png', 'fe_472.png', 'fe_29.png', 'fe_173.png', 'fe_441.png', 'fe_125.png', 'fe_427.png', 'fe_382.png', 'fe_336.png', 'fe_5.png', 'fe_202.png', 'fe_197.png', 'fe_431.png', 'fe_451.png', 'fe_166.png', 'fe_191.png', 'fe_260.png', 'fe_151.png', 'fe_57.png', 'fe_380.png', 'fe_128.png', 'fe_11.png', 'fe_393.png', 'fe_38.png', 'fe_238.png', 'fe_477.png', 'fe_147.png', 'fe_181.png', 'fe_84.png', 'fe_232.png', 'fe_449.png', 'fe_442.png', 'fe_1.png', 'fe_212.png', 'fe_95.png', 'fe_34.png', 'fe_2.png', 'fe_206.png', 'fe_46.png', 'fe_291.png', 'fe_249.png', 'fe_22.png', 'fe_8.png', 'fe_185.png', 'fe_159.png', 'fe_143.png', 'fe_207.png', 'fe_39.png', 'fe_381.png', 'fe_90.png', 'fe_201.png', 'fe_362.png', 'fe_420.png', 'fe_271.png', 'fe_237.png', 'fe_300.png', 'fe_376.png', 'fe_26.png', 'fe_253.png', 'fe_279.png', 'fe_340.png', 'fe_211.png', 'fe_349.png', 'fe_345.png', 'fe_153.png', 'fe_184.png', 'fe_203.png', 'fe_204.png', 'fe_364.png', 'fe_236.png', 'fe_408.png', 'fe_69.png', 'fe_193.png', 'fe_402.png', 'fe_473.png', 'fe_7.png', 'fe_307.png', 'fe_417.png', 'fe_42.png', 'fe_226.png', 'fe_303.png']], [5, ['fe_406.png', 'fe_477.png', 'fe_336.png', 'fe_91.png', 'fe_59.png', 'fe_185.png', 'fe_427.png', 'fe_202.png', 'fe_390.png', 'fe_356.png', 'fe_57.png', 'fe_174.png', 'fe_93.png', 'fe_16.png', 'fe_150.png', 'fe_173.png', 'fe_17.png', 'fe_385.png', 'fe_441.png', 'fe_431.png', 'fe_472.png', 'fe_125.png', 'fe_110.png', 'fe_84.png', 'fe_313.png', 'fe_39.png', 'fe_232.png', 'fe_484.png', 'fe_30.png', 'fe_279.png', 'fe_29.png', 'fe_253.png', 'fe_475.png', 'fe_197.png', 'fe_90.png', 'fe_5.png', 'fe_382.png', 'fe_393.png', 'fe_151.png', 'fe_499.png', 'fe_8.png', 'fe_203.png', 'fe_212.png', 'fe_191.png', 'fe_181.png', 'fe_95.png', 'fe_451.png', 'fe_380.png', 'fe_291.png', 'fe_364.png', 'fe_10.png', 'fe_345.png', 'fe_69.png', 'fe_340.png', 'fe_22.png', 'fe_226.png', 'fe_260.png', 'fe_303.png', 'fe_420.png', 'fe_362.png', 'fe_2.png', 'fe_7.png', 'fe_449.png', 'fe_396.png', 'fe_193.png', 'fe_211.png', 'fe_184.png', 'fe_143.png', 'fe_249.png', 'fe_46.png', 'fe_38.png', 'fe_1.png', 'fe_238.png', 'fe_128.png', 'fe_53.png', 'fe_381.png', 'fe_408.png', 'fe_300.png', 'fe_207.png', 'fe_376.png', 'fe_11.png', 'fe_287.png', 'fe_442.png', 'fe_34.png', 'fe_147.png', 'fe_204.png', 'fe_42.png', 'fe_307.png', 'fe_402.png', 'fe_349.png', 'fe_417.png', 'fe_201.png', 'fe_473.png', 'fe_159.png', 'fe_43.png', 'fe_166.png', 'fe_206.png', 'fe_271.png', 'fe_26.png', 'fe_153.png', 'fe_236.png', 'fe_237.png']]]\n"
     ]
    }
   ],
   "source": [
    "print(result)"
   ]
  },
  {
   "cell_type": "code",
   "execution_count": null,
   "id": "2c3c86ac-9d63-4aee-971c-25568f67361a",
   "metadata": {},
   "outputs": [],
   "source": []
  },
  {
   "cell_type": "code",
   "execution_count": 70,
   "id": "3f57ad8f-cb24-471e-aa9e-fa5ed1eb6f9c",
   "metadata": {},
   "outputs": [],
   "source": [
    "with open(\"data/raw_data/fear_raw.json\", 'r') as f:\n",
    "    fear_raw = json.load(f)\n",
    "    \n",
    "# print(fear_raw)\n",
    "\n",
    "fear_raw_name_only = [x[0] for x in fear_raw]\n",
    "# print(fear_raw_name_only) # high to low # descending\n",
    "# print(len(fear_raw_name_only))\n",
    "\n",
    "temp = filter(lambda x: x in result[0][1], fear_raw_name_only)\n",
    "fear_name_rank_order = list(enumerate(list(temp)))\n",
    "# for i, name in enumerate(temp):\n",
    "#     fear_name_rank_order.append([i+1, name])\n",
    "\n",
    "fear_name_rank_order = {x[1]:x[0] for x in fear_name_rank_order}"
   ]
  },
  {
   "cell_type": "code",
   "execution_count": 71,
   "id": "e41e2dd1-a2b6-4125-a222-c8f4c0d72040",
   "metadata": {},
   "outputs": [
    {
     "name": "stdout",
     "output_type": "stream",
     "text": [
      "{'fe_313.png': 0, 'fe_499.png': 1, 'fe_191.png': 2, 'fe_197.png': 3, 'fe_472.png': 4, 'fe_336.png': 5, 'fe_84.png': 6, 'fe_53.png': 7, 'fe_30.png': 8, 'fe_356.png': 9, 'fe_382.png': 10, 'fe_147.png': 11, 'fe_57.png': 12, 'fe_427.png': 13, 'fe_202.png': 14, 'fe_150.png': 15, 'fe_475.png': 16, 'fe_396.png': 17, 'fe_29.png': 18, 'fe_174.png': 19, 'fe_380.png': 20, 'fe_59.png': 21, 'fe_390.png': 22, 'fe_125.png': 23, 'fe_110.png': 24, 'fe_16.png': 25, 'fe_232.png': 26, 'fe_212.png': 27, 'fe_477.png': 28, 'fe_91.png': 29, 'fe_173.png': 30, 'fe_7.png': 31, 'fe_408.png': 32, 'fe_5.png': 33, 'fe_10.png': 34, 'fe_17.png': 35, 'fe_484.png': 36, 'fe_385.png': 37, 'fe_95.png': 38, 'fe_287.png': 39, 'fe_181.png': 40, 'fe_185.png': 41, 'fe_303.png': 42, 'fe_441.png': 43, 'fe_402.png': 44, 'fe_406.png': 45, 'fe_93.png': 46, 'fe_211.png': 47, 'fe_1.png': 48, 'fe_349.png': 49, 'fe_46.png': 50, 'fe_431.png': 51, 'fe_38.png': 52, 'fe_166.png': 53, 'fe_362.png': 54, 'fe_449.png': 55, 'fe_249.png': 56, 'fe_90.png': 57, 'fe_207.png': 58, 'fe_291.png': 59, 'fe_253.png': 60, 'fe_271.png': 61, 'fe_345.png': 62, 'fe_153.png': 63, 'fe_451.png': 64, 'fe_2.png': 65, 'fe_340.png': 66, 'fe_279.png': 67, 'fe_417.png': 68, 'fe_201.png': 69, 'fe_473.png': 70, 'fe_203.png': 71, 'fe_184.png': 72, 'fe_393.png': 73, 'fe_193.png': 74, 'fe_260.png': 75, 'fe_128.png': 76, 'fe_42.png': 77, 'fe_151.png': 78, 'fe_43.png': 79, 'fe_11.png': 80, 'fe_159.png': 81, 'fe_381.png': 82, 'fe_226.png': 83, 'fe_22.png': 84, 'fe_26.png': 85, 'fe_39.png': 86, 'fe_376.png': 87, 'fe_206.png': 88, 'fe_143.png': 89, 'fe_420.png': 90, 'fe_364.png': 91, 'fe_237.png': 92, 'fe_307.png': 93, 'fe_8.png': 94, 'fe_69.png': 95, 'fe_442.png': 96, 'fe_238.png': 97, 'fe_300.png': 98, 'fe_236.png': 99, 'fe_204.png': 100, 'fe_34.png': 101}\n"
     ]
    }
   ],
   "source": [
    "print(fear_name_rank_order)"
   ]
  },
  {
   "cell_type": "code",
   "execution_count": 73,
   "id": "8a557d25-19f8-4f0b-9e1e-57ddd49a41c8",
   "metadata": {},
   "outputs": [
    {
     "name": "stdout",
     "output_type": "stream",
     "text": [
      "[(0, 'fe_313.png'), (1, 'fe_260.png'), (2, 'fe_181.png'), (3, 'fe_356.png'), (4, 'fe_53.png'), (5, 'fe_396.png'), (6, 'fe_91.png'), (7, 'fe_385.png'), (8, 'fe_93.png'), (9, 'fe_59.png'), (10, 'fe_472.png'), (11, 'fe_174.png'), (12, 'fe_427.png'), (13, 'fe_29.png'), (14, 'fe_5.png'), (15, 'fe_16.png'), (16, 'fe_202.png'), (17, 'fe_147.png'), (18, 'fe_499.png'), (19, 'fe_232.png'), (20, 'fe_475.png'), (21, 'fe_185.png'), (22, 'fe_43.png'), (23, 'fe_150.png'), (24, 'fe_380.png'), (25, 'fe_30.png'), (26, 'fe_484.png'), (27, 'fe_382.png'), (28, 'fe_39.png'), (29, 'fe_17.png'), (30, 'fe_110.png'), (31, 'fe_362.png'), (32, 'fe_431.png'), (33, 'fe_451.png'), (34, 'fe_287.png'), (35, 'fe_197.png'), (36, 'fe_376.png'), (37, 'fe_193.png'), (38, 'fe_449.png'), (39, 'fe_159.png'), (40, 'fe_125.png'), (41, 'fe_441.png'), (42, 'fe_477.png'), (43, 'fe_390.png'), (44, 'fe_173.png'), (45, 'fe_406.png'), (46, 'fe_249.png'), (47, 'fe_22.png'), (48, 'fe_90.png'), (49, 'fe_408.png'), (50, 'fe_381.png'), (51, 'fe_349.png'), (52, 'fe_10.png'), (53, 'fe_393.png'), (54, 'fe_211.png'), (55, 'fe_7.png'), (56, 'fe_1.png'), (57, 'fe_473.png'), (58, 'fe_128.png'), (59, 'fe_238.png'), (60, 'fe_151.png'), (61, 'fe_364.png'), (62, 'fe_84.png'), (63, 'fe_95.png'), (64, 'fe_46.png'), (65, 'fe_143.png'), (66, 'fe_345.png'), (67, 'fe_237.png'), (68, 'fe_204.png'), (69, 'fe_11.png'), (70, 'fe_153.png'), (71, 'fe_2.png'), (72, 'fe_420.png'), (73, 'fe_203.png'), (74, 'fe_291.png'), (75, 'fe_212.png'), (76, 'fe_340.png'), (77, 'fe_201.png'), (78, 'fe_226.png'), (79, 'fe_253.png'), (80, 'fe_417.png'), (81, 'fe_402.png'), (82, 'fe_206.png'), (83, 'fe_166.png'), (84, 'fe_191.png'), (85, 'fe_303.png'), (86, 'fe_307.png'), (87, 'fe_271.png'), (88, 'fe_34.png'), (89, 'fe_42.png'), (90, 'fe_207.png'), (91, 'fe_236.png'), (92, 'fe_279.png'), (93, 'fe_38.png'), (94, 'fe_336.png'), (95, 'fe_184.png'), (96, 'fe_300.png'), (97, 'fe_8.png'), (98, 'fe_26.png'), (99, 'fe_69.png'), (100, 'fe_57.png'), (101, 'fe_442.png')]\n"
     ]
    }
   ],
   "source": [
    "# test for result 0\n",
    "# jason\n",
    "j_data = list(enumerate(result[0][1]))\n",
    "print(j_data)\n"
   ]
  },
  {
   "cell_type": "code",
   "execution_count": 74,
   "id": "e08569d6-1744-40f7-87d0-a6456fd1d72c",
   "metadata": {
    "tags": []
   },
   "outputs": [
    {
     "name": "stdout",
     "output_type": "stream",
     "text": [
      "[(0, 'fe_396.png'), (1, 'fe_17.png'), (2, 'fe_382.png'), (3, 'fe_93.png'), (4, 'fe_427.png'), (5, 'fe_232.png'), (6, 'fe_53.png'), (7, 'fe_5.png'), (8, 'fe_110.png'), (9, 'fe_29.png'), (10, 'fe_431.png'), (11, 'fe_166.png'), (12, 'fe_472.png'), (13, 'fe_313.png'), (14, 'fe_499.png'), (15, 'fe_147.png'), (16, 'fe_150.png'), (17, 'fe_1.png'), (18, 'fe_206.png'), (19, 'fe_91.png'), (20, 'fe_128.png'), (21, 'fe_484.png'), (22, 'fe_57.png'), (23, 'fe_385.png'), (24, 'fe_173.png'), (25, 'fe_84.png'), (26, 'fe_356.png'), (27, 'fe_202.png'), (28, 'fe_174.png'), (29, 'fe_59.png'), (30, 'fe_151.png'), (31, 'fe_475.png'), (32, 'fe_90.png'), (33, 'fe_253.png'), (34, 'fe_197.png'), (35, 'fe_181.png'), (36, 'fe_16.png'), (37, 'fe_287.png'), (38, 'fe_10.png'), (39, 'fe_362.png'), (40, 'fe_279.png'), (41, 'fe_39.png'), (42, 'fe_207.png'), (43, 'fe_336.png'), (44, 'fe_303.png'), (45, 'fe_43.png'), (46, 'fe_406.png'), (47, 'fe_390.png'), (48, 'fe_30.png'), (49, 'fe_441.png'), (50, 'fe_211.png'), (51, 'fe_417.png'), (52, 'fe_393.png'), (53, 'fe_7.png'), (54, 'fe_376.png'), (55, 'fe_159.png'), (56, 'fe_11.png'), (57, 'fe_260.png'), (58, 'fe_38.png'), (59, 'fe_191.png'), (60, 'fe_473.png'), (61, 'fe_185.png'), (62, 'fe_291.png'), (63, 'fe_340.png'), (64, 'fe_238.png'), (65, 'fe_249.png'), (66, 'fe_193.png'), (67, 'fe_271.png'), (68, 'fe_125.png'), (69, 'fe_408.png'), (70, 'fe_451.png'), (71, 'fe_442.png'), (72, 'fe_42.png'), (73, 'fe_364.png'), (74, 'fe_477.png'), (75, 'fe_449.png'), (76, 'fe_345.png'), (77, 'fe_380.png'), (78, 'fe_204.png'), (79, 'fe_402.png'), (80, 'fe_143.png'), (81, 'fe_8.png'), (82, 'fe_95.png'), (83, 'fe_22.png'), (84, 'fe_69.png'), (85, 'fe_203.png'), (86, 'fe_307.png'), (87, 'fe_153.png'), (88, 'fe_184.png'), (89, 'fe_46.png'), (90, 'fe_226.png'), (91, 'fe_2.png'), (92, 'fe_34.png'), (93, 'fe_201.png'), (94, 'fe_26.png'), (95, 'fe_236.png'), (96, 'fe_212.png'), (97, 'fe_349.png'), (98, 'fe_237.png'), (99, 'fe_300.png'), (100, 'fe_420.png'), (101, 'fe_381.png')]\n"
     ]
    }
   ],
   "source": [
    "# imamura\n",
    "i_data = list(enumerate(result[1][1]))\n",
    "print(i_data)"
   ]
  },
  {
   "cell_type": "code",
   "execution_count": 84,
   "id": "06e48883-c167-46a5-b997-9ed00c6b8bd0",
   "metadata": {},
   "outputs": [
    {
     "name": "stdout",
     "output_type": "stream",
     "text": [
      "[((0, 'fe_313.png'), 0), ((18, 'fe_499.png'), 1), ((84, 'fe_191.png'), 2), ((35, 'fe_197.png'), 3), ((10, 'fe_472.png'), 4), ((94, 'fe_336.png'), 5), ((62, 'fe_84.png'), 6), ((4, 'fe_53.png'), 7), ((25, 'fe_30.png'), 8), ((3, 'fe_356.png'), 9), ((27, 'fe_382.png'), 10), ((17, 'fe_147.png'), 11), ((100, 'fe_57.png'), 12), ((12, 'fe_427.png'), 13), ((16, 'fe_202.png'), 14), ((23, 'fe_150.png'), 15), ((20, 'fe_475.png'), 16), ((5, 'fe_396.png'), 17), ((13, 'fe_29.png'), 18), ((11, 'fe_174.png'), 19), ((24, 'fe_380.png'), 20), ((9, 'fe_59.png'), 21), ((43, 'fe_390.png'), 22), ((40, 'fe_125.png'), 23), ((30, 'fe_110.png'), 24), ((15, 'fe_16.png'), 25), ((19, 'fe_232.png'), 26), ((75, 'fe_212.png'), 27), ((42, 'fe_477.png'), 28), ((6, 'fe_91.png'), 29), ((44, 'fe_173.png'), 30), ((55, 'fe_7.png'), 31), ((49, 'fe_408.png'), 32), ((14, 'fe_5.png'), 33), ((52, 'fe_10.png'), 34), ((29, 'fe_17.png'), 35), ((26, 'fe_484.png'), 36), ((7, 'fe_385.png'), 37), ((63, 'fe_95.png'), 38), ((34, 'fe_287.png'), 39), ((2, 'fe_181.png'), 40), ((21, 'fe_185.png'), 41), ((85, 'fe_303.png'), 42), ((41, 'fe_441.png'), 43), ((81, 'fe_402.png'), 44), ((45, 'fe_406.png'), 45), ((8, 'fe_93.png'), 46), ((54, 'fe_211.png'), 47), ((56, 'fe_1.png'), 48), ((51, 'fe_349.png'), 49), ((64, 'fe_46.png'), 50), ((32, 'fe_431.png'), 51), ((93, 'fe_38.png'), 52), ((83, 'fe_166.png'), 53), ((31, 'fe_362.png'), 54), ((38, 'fe_449.png'), 55), ((46, 'fe_249.png'), 56), ((48, 'fe_90.png'), 57), ((90, 'fe_207.png'), 58), ((74, 'fe_291.png'), 59), ((79, 'fe_253.png'), 60), ((87, 'fe_271.png'), 61), ((66, 'fe_345.png'), 62), ((70, 'fe_153.png'), 63), ((33, 'fe_451.png'), 64), ((71, 'fe_2.png'), 65), ((76, 'fe_340.png'), 66), ((92, 'fe_279.png'), 67), ((80, 'fe_417.png'), 68), ((77, 'fe_201.png'), 69), ((57, 'fe_473.png'), 70), ((73, 'fe_203.png'), 71), ((95, 'fe_184.png'), 72), ((53, 'fe_393.png'), 73), ((37, 'fe_193.png'), 74), ((1, 'fe_260.png'), 75), ((58, 'fe_128.png'), 76), ((89, 'fe_42.png'), 77), ((60, 'fe_151.png'), 78), ((22, 'fe_43.png'), 79), ((69, 'fe_11.png'), 80), ((39, 'fe_159.png'), 81), ((50, 'fe_381.png'), 82), ((78, 'fe_226.png'), 83), ((47, 'fe_22.png'), 84), ((98, 'fe_26.png'), 85), ((28, 'fe_39.png'), 86), ((36, 'fe_376.png'), 87), ((82, 'fe_206.png'), 88), ((65, 'fe_143.png'), 89), ((72, 'fe_420.png'), 90), ((61, 'fe_364.png'), 91), ((67, 'fe_237.png'), 92), ((86, 'fe_307.png'), 93), ((97, 'fe_8.png'), 94), ((99, 'fe_69.png'), 95), ((101, 'fe_442.png'), 96), ((59, 'fe_238.png'), 97), ((96, 'fe_300.png'), 98), ((91, 'fe_236.png'), 99), ((68, 'fe_204.png'), 100), ((88, 'fe_34.png'), 101)]\n"
     ]
    }
   ],
   "source": [
    "# compute rank \n",
    "temp_list = []\n",
    "for i, c in enumerate(j_data):\n",
    "    temp_list.append((c, fear_name_rank_order[c[1]]))\n",
    "temp_list.sort(key=lambda x:x[1])\n",
    "# temp_list = [x[0] for x in temp_list]\n",
    "print(temp_list)"
   ]
  },
  {
   "cell_type": "code",
   "execution_count": 86,
   "id": "59266ac3-6045-4f5c-8ed2-2217fccef89e",
   "metadata": {},
   "outputs": [
    {
     "name": "stdout",
     "output_type": "stream",
     "text": [
      "[0, 1, 2, 3, 4, 5, 6, 7, 8, 9, 10, 11, 12, 13, 14, 15, 16, 17, 18, 19, 20, 21, 22, 23, 24, 25, 26, 27, 28, 29, 30, 31, 32, 33, 34, 35, 36, 37, 38, 39, 40, 41, 42, 43, 44, 45, 46, 47, 48, 49, 50, 51, 52, 53, 54, 55, 56, 57, 58, 59, 60, 61, 62, 63, 64, 65, 66, 67, 68, 69, 70, 71, 72, 73, 74, 75, 76, 77, 78, 79, 80, 81, 82, 83, 84, 85, 86, 87, 88, 89, 90, 91, 92, 93, 94, 95, 96, 97, 98, 99, 100, 101]\n",
      "[0, 18, 84, 35, 10, 94, 62, 4, 25, 3, 27, 17, 100, 12, 16, 23, 20, 5, 13, 11, 24, 9, 43, 40, 30, 15, 19, 75, 42, 6, 44, 55, 49, 14, 52, 29, 26, 7, 63, 34, 2, 21, 85, 41, 81, 45, 8, 54, 56, 51, 64, 32, 93, 83, 31, 38, 46, 48, 90, 74, 79, 87, 66, 70, 33, 71, 76, 92, 80, 77, 57, 73, 95, 53, 37, 1, 58, 89, 60, 22, 69, 39, 50, 78, 47, 98, 28, 36, 82, 65, 72, 61, 67, 86, 97, 99, 101, 59, 96, 91, 68, 88]\n"
     ]
    },
    {
     "data": {
      "image/png": "[encoded data removed]",
      "text/plain": [
       "<Figure size 640x480 with 1 Axes>"
      ]
     },
     "metadata": {},
     "output_type": "display_data"
    }
   ],
   "source": [
    "# scatter graph\n",
    "x = [i[1] for i in temp_list]\n",
    "y1 = [i[0][0] for i in temp_list]\n",
    "print(x)\n",
    "print(y)\n",
    "\n",
    "plt.scatter(x, y)\n",
    "plt.show()\n"
   ]
  },
  {
   "cell_type": "code",
   "execution_count": 80,
   "id": "360e24b4-a24c-4c4d-899e-ef37f0da035d",
   "metadata": {},
   "outputs": [
    {
     "data": {
      "image/png": "[encoded data removed]",
      "text/plain": [
       "<Figure size 640x480 with 1 Axes>"
      ]
     },
     "metadata": {},
     "output_type": "display_data"
    }
   ],
   "source": [
    "x = [i for i in range(102)]\n",
    "y = []\n",
    "temp_score = 0\n",
    "for i in temp_list:\n",
    "    tmp = abs(i[1] - i[0][0])\n",
    "    temp_score += tmp\n",
    "    y.append(temp_score)\n",
    "\n",
    "import numpy as np\n",
    "import matplotlib.pyplot as plt\n",
    "x = np.array(x)\n",
    "y = np.array(y)\n",
    "plt.scatter(x, y)\n",
    "plt.show()"
   ]
  },
  {
   "cell_type": "code",
   "execution_count": 83,
   "id": "9dc0c80a-2504-4488-875e-6b00bd97c8e3",
   "metadata": {},
   "outputs": [
    {
     "name": "stdout",
     "output_type": "stream",
     "text": [
      "[((13, 'fe_313.png'), 0), ((14, 'fe_499.png'), 1), ((59, 'fe_191.png'), 2), ((34, 'fe_197.png'), 3), ((12, 'fe_472.png'), 4), ((43, 'fe_336.png'), 5), ((25, 'fe_84.png'), 6), ((6, 'fe_53.png'), 7), ((48, 'fe_30.png'), 8), ((26, 'fe_356.png'), 9), ((2, 'fe_382.png'), 10), ((15, 'fe_147.png'), 11), ((22, 'fe_57.png'), 12), ((4, 'fe_427.png'), 13), ((27, 'fe_202.png'), 14), ((16, 'fe_150.png'), 15), ((31, 'fe_475.png'), 16), ((0, 'fe_396.png'), 17), ((9, 'fe_29.png'), 18), ((28, 'fe_174.png'), 19), ((77, 'fe_380.png'), 20), ((29, 'fe_59.png'), 21), ((47, 'fe_390.png'), 22), ((68, 'fe_125.png'), 23), ((8, 'fe_110.png'), 24), ((36, 'fe_16.png'), 25), ((5, 'fe_232.png'), 26), ((96, 'fe_212.png'), 27), ((74, 'fe_477.png'), 28), ((19, 'fe_91.png'), 29), ((24, 'fe_173.png'), 30), ((53, 'fe_7.png'), 31), ((69, 'fe_408.png'), 32), ((7, 'fe_5.png'), 33), ((38, 'fe_10.png'), 34), ((1, 'fe_17.png'), 35), ((21, 'fe_484.png'), 36), ((23, 'fe_385.png'), 37), ((82, 'fe_95.png'), 38), ((37, 'fe_287.png'), 39), ((35, 'fe_181.png'), 40), ((61, 'fe_185.png'), 41), ((44, 'fe_303.png'), 42), ((49, 'fe_441.png'), 43), ((79, 'fe_402.png'), 44), ((46, 'fe_406.png'), 45), ((3, 'fe_93.png'), 46), ((50, 'fe_211.png'), 47), ((17, 'fe_1.png'), 48), ((97, 'fe_349.png'), 49), ((89, 'fe_46.png'), 50), ((10, 'fe_431.png'), 51), ((58, 'fe_38.png'), 52), ((11, 'fe_166.png'), 53), ((39, 'fe_362.png'), 54), ((75, 'fe_449.png'), 55), ((65, 'fe_249.png'), 56), ((32, 'fe_90.png'), 57), ((42, 'fe_207.png'), 58), ((62, 'fe_291.png'), 59), ((33, 'fe_253.png'), 60), ((67, 'fe_271.png'), 61), ((76, 'fe_345.png'), 62), ((87, 'fe_153.png'), 63), ((70, 'fe_451.png'), 64), ((91, 'fe_2.png'), 65), ((63, 'fe_340.png'), 66), ((40, 'fe_279.png'), 67), ((51, 'fe_417.png'), 68), ((93, 'fe_201.png'), 69), ((60, 'fe_473.png'), 70), ((85, 'fe_203.png'), 71), ((88, 'fe_184.png'), 72), ((52, 'fe_393.png'), 73), ((66, 'fe_193.png'), 74), ((57, 'fe_260.png'), 75), ((20, 'fe_128.png'), 76), ((72, 'fe_42.png'), 77), ((30, 'fe_151.png'), 78), ((45, 'fe_43.png'), 79), ((56, 'fe_11.png'), 80), ((55, 'fe_159.png'), 81), ((101, 'fe_381.png'), 82), ((90, 'fe_226.png'), 83), ((83, 'fe_22.png'), 84), ((94, 'fe_26.png'), 85), ((41, 'fe_39.png'), 86), ((54, 'fe_376.png'), 87), ((18, 'fe_206.png'), 88), ((80, 'fe_143.png'), 89), ((100, 'fe_420.png'), 90), ((73, 'fe_364.png'), 91), ((98, 'fe_237.png'), 92), ((86, 'fe_307.png'), 93), ((81, 'fe_8.png'), 94), ((84, 'fe_69.png'), 95), ((71, 'fe_442.png'), 96), ((64, 'fe_238.png'), 97), ((99, 'fe_300.png'), 98), ((95, 'fe_236.png'), 99), ((78, 'fe_204.png'), 100), ((92, 'fe_34.png'), 101)]\n"
     ]
    },
    {
     "data": {
      "image/png": "[encoded data removed]",
      "text/plain": [
       "<Figure size 640x480 with 1 Axes>"
      ]
     },
     "metadata": {},
     "output_type": "display_data"
    }
   ],
   "source": [
    "# compute rank \n",
    "temp_list = []\n",
    "for i, c in enumerate(i_data):\n",
    "    temp_list.append((c, fear_name_rank_order[c[1]]))\n",
    "temp_list.sort(key=lambda x:x[1])\n",
    "# temp_list = [x[0] for x in temp_list]\n",
    "print(temp_list)\n",
    "\n",
    "x = [i for i in range(102)]\n",
    "y = []\n",
    "temp_score = 0\n",
    "for i in temp_list:\n",
    "    tmp = abs(i[1] - i[0][0])\n",
    "    temp_score += tmp\n",
    "    y.append(temp_score)\n",
    "\n",
    "import numpy as np\n",
    "import matplotlib.pyplot as plt\n",
    "x = np.array(x)\n",
    "y = np.array(y)\n",
    "plt.scatter(x, y)\n",
    "plt.show()"
   ]
  },
  {
   "cell_type": "code",
   "execution_count": 117,
   "id": "65132a44-cae9-4e45-ac04-70a5759e5ad9",
   "metadata": {},
   "outputs": [
    {
     "name": "stdout",
     "output_type": "stream",
     "text": [
      "[((0, 'fe_313.png'), 0), ((18, 'fe_499.png'), 1), ((84, 'fe_191.png'), 2), ((35, 'fe_197.png'), 3), ((10, 'fe_472.png'), 4), ((94, 'fe_336.png'), 5), ((62, 'fe_84.png'), 6), ((4, 'fe_53.png'), 7), ((25, 'fe_30.png'), 8), ((3, 'fe_356.png'), 9), ((27, 'fe_382.png'), 10), ((17, 'fe_147.png'), 11), ((100, 'fe_57.png'), 12), ((12, 'fe_427.png'), 13), ((16, 'fe_202.png'), 14), ((23, 'fe_150.png'), 15), ((20, 'fe_475.png'), 16), ((5, 'fe_396.png'), 17), ((13, 'fe_29.png'), 18), ((11, 'fe_174.png'), 19), ((24, 'fe_380.png'), 20), ((9, 'fe_59.png'), 21), ((43, 'fe_390.png'), 22), ((40, 'fe_125.png'), 23), ((30, 'fe_110.png'), 24), ((15, 'fe_16.png'), 25), ((19, 'fe_232.png'), 26), ((75, 'fe_212.png'), 27), ((42, 'fe_477.png'), 28), ((6, 'fe_91.png'), 29), ((44, 'fe_173.png'), 30), ((55, 'fe_7.png'), 31), ((49, 'fe_408.png'), 32), ((14, 'fe_5.png'), 33), ((52, 'fe_10.png'), 34), ((29, 'fe_17.png'), 35), ((26, 'fe_484.png'), 36), ((7, 'fe_385.png'), 37), ((63, 'fe_95.png'), 38), ((34, 'fe_287.png'), 39), ((2, 'fe_181.png'), 40), ((21, 'fe_185.png'), 41), ((85, 'fe_303.png'), 42), ((41, 'fe_441.png'), 43), ((81, 'fe_402.png'), 44), ((45, 'fe_406.png'), 45), ((8, 'fe_93.png'), 46), ((54, 'fe_211.png'), 47), ((56, 'fe_1.png'), 48), ((51, 'fe_349.png'), 49), ((64, 'fe_46.png'), 50), ((32, 'fe_431.png'), 51), ((93, 'fe_38.png'), 52), ((83, 'fe_166.png'), 53), ((31, 'fe_362.png'), 54), ((38, 'fe_449.png'), 55), ((46, 'fe_249.png'), 56), ((48, 'fe_90.png'), 57), ((90, 'fe_207.png'), 58), ((74, 'fe_291.png'), 59), ((79, 'fe_253.png'), 60), ((87, 'fe_271.png'), 61), ((66, 'fe_345.png'), 62), ((70, 'fe_153.png'), 63), ((33, 'fe_451.png'), 64), ((71, 'fe_2.png'), 65), ((76, 'fe_340.png'), 66), ((92, 'fe_279.png'), 67), ((80, 'fe_417.png'), 68), ((77, 'fe_201.png'), 69), ((57, 'fe_473.png'), 70), ((73, 'fe_203.png'), 71), ((95, 'fe_184.png'), 72), ((53, 'fe_393.png'), 73), ((37, 'fe_193.png'), 74), ((1, 'fe_260.png'), 75), ((58, 'fe_128.png'), 76), ((89, 'fe_42.png'), 77), ((60, 'fe_151.png'), 78), ((22, 'fe_43.png'), 79), ((69, 'fe_11.png'), 80), ((39, 'fe_159.png'), 81), ((50, 'fe_381.png'), 82), ((78, 'fe_226.png'), 83), ((47, 'fe_22.png'), 84), ((98, 'fe_26.png'), 85), ((28, 'fe_39.png'), 86), ((36, 'fe_376.png'), 87), ((82, 'fe_206.png'), 88), ((65, 'fe_143.png'), 89), ((72, 'fe_420.png'), 90), ((61, 'fe_364.png'), 91), ((67, 'fe_237.png'), 92), ((86, 'fe_307.png'), 93), ((97, 'fe_8.png'), 94), ((99, 'fe_69.png'), 95), ((101, 'fe_442.png'), 96), ((59, 'fe_238.png'), 97), ((96, 'fe_300.png'), 98), ((91, 'fe_236.png'), 99), ((68, 'fe_204.png'), 100), ((88, 'fe_34.png'), 101)]\n"
     ]
    }
   ],
   "source": [
    "print(temp_list)"
   ]
  },
  {
   "cell_type": "code",
   "execution_count": null,
   "id": "e6841b41-0ae1-40ba-ab8b-52f2cee49008",
   "metadata": {},
   "outputs": [],
   "source": []
  },
  {
   "cell_type": "markdown",
   "id": "bc65a2c3",
   "metadata": {},
   "source": [
    "# Participant analysis"
   ]
  },
  {
   "cell_type": "code",
   "execution_count": null,
   "id": "0fa8b951",
   "metadata": {},
   "outputs": [],
   "source": []
  },
  {
   "cell_type": "code",
   "execution_count": 28,
   "id": "4564fbfd",
   "metadata": {},
   "outputs": [
    {
     "name": "stdout",
     "output_type": "stream",
     "text": [
      "{'ha_367.png': 0, 'ha_84.png': 0, 'ha_207.png': 0, 'ha_2.png': 0, 'ha_212.png': 0, 'ha_399.png': 0, 'ha_428.png': 0, 'ha_172.png': 0, 'ha_50.png': 0, 'ha_1.png': 0, 'ha_407.png': 0, 'ha_201.png': 0, 'ha_215.png': 0, 'ha_5.png': 0, 'ha_348.png': 0, 'ha_54.png': 0, 'ha_412.png': 0, 'ha_174.png': 0, 'ha_404.png': 0, 'ha_202.png': 0, 'ha_43.png': 0, 'ha_377.png': 0, 'ha_149.png': 0, 'ha_106.png': 0, 'ha_24.png': 0, 'ha_476.png': 0, 'ha_310.png': 0, 'ha_489.png': 0, 'ha_477.png': 0, 'ha_311.png': 0, 'ha_19.png': 0, 'ha_107.png': 0, 'ha_139.png': 0, 'ha_111.png': 0, 'ha_33.png': 0, 'ha_27.png': 0, 'ha_475.png': 0, 'ha_32.png': 0, 'ha_110.png': 0, 'ha_128.png': 0, 'ha_262.png': 0, 'ha_288.png': 0, 'ha_303.png': 0, 'ha_301.png': 0, 'ha_315.png': 0, 'ha_329.png': 0, 'ha_249.png': 0, 'ha_314.png': 0, 'ha_466.png': 0, 'ha_116.png': 0, 'ha_11.png': 0, 'ha_443.png': 0, 'ha_292.png': 0, 'ha_244.png': 0, 'ha_442.png': 0, 'ha_132.png': 0, 'ha_130.png': 0, 'ha_124.png': 0, 'ha_454.png': 0, 'ha_497.png': 0, 'ha_252.png': 0, 'ha_284.png': 0, 'ha_482.png': 0, 'ha_131.png': 0, 'ha_119.png': 0, 'ha_451.png': 0, 'ha_243.png': 0, 'ha_257.png': 0, 'ha_256.png': 0, 'ha_16.png': 0, 'ha_450.png': 0, 'ha_122.png': 0, 'ha_320.png': 0, 'ha_334.png': 0, 'ha_491.png': 0, 'ha_268.png': 0, 'ha_296.png': 0, 'ha_241.png': 0, 'ha_233.png': 0, 'ha_384.png': 0, 'ha_186.png': 0, 'ha_151.png': 0, 'ha_145.png': 0, 'ha_184.png': 0, 'ha_59.png': 0, 'ha_9.png': 0, 'ha_393.png': 0, 'ha_344.png': 0, 'ha_422.png': 0, 'ha_185.png': 0, 'ha_152.png': 0, 'ha_368.png': 0, 'ha_235.png': 0, 'ha_221.png': 0, 'ha_382.png': 0, 'ha_396.png': 0, 'ha_341.png': 0, 'ha_380.png': 0, 'ha_381.png': 0, 'ha_342.png': 0}\n"
     ]
    }
   ],
   "source": [
    "raw_img_name_list = ['ha_367.png', 'ha_84.png', 'ha_207.png', 'ha_2.png', 'ha_212.png', 'ha_399.png', 'ha_428.png', 'ha_172.png', 'ha_50.png', 'ha_1.png', 'ha_407.png', 'ha_201.png', 'ha_215.png', 'ha_5.png', 'ha_348.png', 'ha_54.png', 'ha_412.png', 'ha_174.png', 'ha_404.png', 'ha_202.png', 'ha_43.png', 'ha_377.png', 'ha_149.png', 'ha_106.png', 'ha_24.png', 'ha_476.png', 'ha_310.png', 'ha_489.png', 'ha_477.png', 'ha_311.png', 'ha_19.png', 'ha_107.png', 'ha_139.png', 'ha_111.png', 'ha_33.png', 'ha_27.png', 'ha_475.png', 'ha_32.png', 'ha_110.png', 'ha_128.png', 'ha_262.png', 'ha_288.png', 'ha_303.png', 'ha_301.png', 'ha_315.png', 'ha_329.png', 'ha_249.png', 'ha_314.png', 'ha_466.png', 'ha_116.png', 'ha_11.png', 'ha_443.png', 'ha_292.png', 'ha_244.png', 'ha_442.png', 'ha_132.png', 'ha_130.png', 'ha_124.png', 'ha_454.png', 'ha_497.png', 'ha_252.png', 'ha_284.png', 'ha_482.png', 'ha_131.png', 'ha_119.png', 'ha_451.png', 'ha_243.png', 'ha_257.png', 'ha_256.png', 'ha_16.png', 'ha_450.png', 'ha_122.png', 'ha_320.png', 'ha_334.png', 'ha_491.png', 'ha_268.png', 'ha_296.png', 'ha_241.png', 'ha_233.png', 'ha_384.png', 'ha_186.png', 'ha_151.png', 'ha_145.png', 'ha_184.png', 'ha_59.png', 'ha_9.png', 'ha_393.png', 'ha_344.png', 'ha_422.png', 'ha_185.png', 'ha_152.png', 'ha_368.png', 'ha_235.png', 'ha_221.png', 'ha_382.png', 'ha_396.png', 'ha_341.png', 'ha_380.png', 'ha_381.png', 'ha_342.png']\n",
    "raw_img_score_dic = {x: 0 for x in raw_img_name_list}\n",
    "print(raw_img_score_dic)"
   ]
  },
  {
   "cell_type": "code",
   "execution_count": 32,
   "id": "efde9c84",
   "metadata": {},
   "outputs": [
    {
     "name": "stdout",
     "output_type": "stream",
     "text": [
      "[('ha_212.png', 74), ('ha_393.png', 84), ('ha_428.png', 96), ('ha_489.png', 110), ('ha_412.png', 112), ('ha_202.png', 150), ('ha_348.png', 152), ('ha_24.png', 154), ('ha_407.png', 160), ('ha_288.png', 162), ('ha_367.png', 172), ('ha_341.png', 174), ('ha_235.png', 180), ('ha_443.png', 182), ('ha_450.png', 186), ('ha_185.png', 186), ('ha_50.png', 194), ('ha_491.png', 198), ('ha_301.png', 212), ('ha_11.png', 212), ('ha_422.png', 212), ('ha_130.png', 220), ('ha_243.png', 222), ('ha_201.png', 228), ('ha_32.png', 256), ('ha_19.png', 258), ('ha_384.png', 260), ('ha_184.png', 262), ('ha_311.png', 276), ('ha_497.png', 276), ('ha_256.png', 276), ('ha_27.png', 296), ('ha_107.png', 302), ('ha_268.png', 312), ('ha_329.png', 320), ('ha_315.png', 340), ('ha_2.png', 344), ('ha_368.png', 346), ('ha_241.png', 348), ('ha_303.png', 364), ('ha_221.png', 366), ('ha_151.png', 368), ('ha_342.png', 372), ('ha_296.png', 384), ('ha_152.png', 384), ('ha_442.png', 394), ('ha_186.png', 400), ('ha_344.png', 400), ('ha_215.png', 404), ('ha_320.png', 408), ('ha_149.png', 410), ('ha_122.png', 414), ('ha_54.png', 416), ('ha_476.png', 418), ('ha_106.png', 420), ('ha_249.png', 424), ('ha_132.png', 438), ('ha_33.png', 440), ('ha_207.png', 444), ('ha_451.png', 444), ('ha_172.png', 456), ('ha_244.png', 466), ('ha_454.png', 472), ('ha_43.png', 474), ('ha_131.png', 478), ('ha_377.png', 484), ('ha_396.png', 486), ('ha_284.png', 492), ('ha_59.png', 496), ('ha_1.png', 498), ('ha_252.png', 500), ('ha_466.png', 508), ('ha_110.png', 510), ('ha_404.png', 516), ('ha_292.png', 518), ('ha_124.png', 526), ('ha_482.png', 528), ('ha_477.png', 534), ('ha_5.png', 540), ('ha_382.png', 552), ('ha_9.png', 586), ('ha_334.png', 592), ('ha_381.png', 596), ('ha_111.png', 600), ('ha_380.png', 600), ('ha_310.png', 602), ('ha_475.png', 602), ('ha_128.png', 606), ('ha_314.png', 614), ('ha_262.png', 620), ('ha_174.png', 622), ('ha_119.png', 624), ('ha_139.png', 636), ('ha_257.png', 636), ('ha_233.png', 638), ('ha_116.png', 648), ('ha_399.png', 654), ('ha_84.png', 660), ('ha_145.png', 676), ('ha_16.png', 738)]\n"
     ]
    }
   ],
   "source": [
    "# use three participants result to generate a new list\n",
    "def addScoreFromRes(res, my_dic):\n",
    "    for i in range(len(res)):\n",
    "        my_dic[res[i]] += i\n",
    "    return my_dic\n",
    "\n",
    "# add score from three participants\n",
    "raw_img_score_dic = addScoreFromRes(res_zhengliang, raw_img_score_dic)\n",
    "raw_img_score_dic = addScoreFromRes(res_zitang, raw_img_score_dic)\n",
    "raw_img_score_dic = addScoreFromRes(res_yenju, raw_img_score_dic)\n",
    "raw_img_score_dic = addScoreFromRes(res_dongsheng, raw_img_score_dic)\n",
    "\n",
    "# sort the dic\n",
    "sorted_img_score_dic = sorted(raw_img_score_dic.items(), key=lambda x: x[1], reverse=False)\n",
    "print(sorted_img_score_dic)\n",
    "    "
   ]
  },
  {
   "cell_type": "code",
   "execution_count": 33,
   "id": "922cb68e",
   "metadata": {},
   "outputs": [
    {
     "name": "stdout",
     "output_type": "stream",
     "text": [
      "['ha_212.png', 'ha_393.png', 'ha_428.png', 'ha_489.png', 'ha_412.png', 'ha_202.png', 'ha_348.png', 'ha_24.png', 'ha_407.png', 'ha_288.png', 'ha_367.png', 'ha_341.png', 'ha_235.png', 'ha_443.png', 'ha_450.png', 'ha_185.png', 'ha_50.png', 'ha_491.png', 'ha_301.png', 'ha_11.png', 'ha_422.png', 'ha_130.png', 'ha_243.png', 'ha_201.png', 'ha_32.png', 'ha_19.png', 'ha_384.png', 'ha_184.png', 'ha_311.png', 'ha_497.png', 'ha_256.png', 'ha_27.png', 'ha_107.png', 'ha_268.png', 'ha_329.png', 'ha_315.png', 'ha_2.png', 'ha_368.png', 'ha_241.png', 'ha_303.png', 'ha_221.png', 'ha_151.png', 'ha_342.png', 'ha_296.png', 'ha_152.png', 'ha_442.png', 'ha_186.png', 'ha_344.png', 'ha_215.png', 'ha_320.png', 'ha_149.png', 'ha_122.png', 'ha_54.png', 'ha_476.png', 'ha_106.png', 'ha_249.png', 'ha_132.png', 'ha_33.png', 'ha_207.png', 'ha_451.png', 'ha_172.png', 'ha_244.png', 'ha_454.png', 'ha_43.png', 'ha_131.png', 'ha_377.png', 'ha_396.png', 'ha_284.png', 'ha_59.png', 'ha_1.png', 'ha_252.png', 'ha_466.png', 'ha_110.png', 'ha_404.png', 'ha_292.png', 'ha_124.png', 'ha_482.png', 'ha_477.png', 'ha_5.png', 'ha_382.png', 'ha_9.png', 'ha_334.png', 'ha_381.png', 'ha_111.png', 'ha_380.png', 'ha_310.png', 'ha_475.png', 'ha_128.png', 'ha_314.png', 'ha_262.png', 'ha_174.png', 'ha_119.png', 'ha_139.png', 'ha_257.png', 'ha_233.png', 'ha_116.png', 'ha_399.png', 'ha_84.png', 'ha_145.png', 'ha_16.png']\n"
     ]
    }
   ],
   "source": [
    "aver_4 = [x[0] for x in sorted_img_score_dic]\n",
    "# aver_3.reverse()\n",
    "# already reversed\n",
    "print(aver_4)"
   ]
  },
  {
   "cell_type": "code",
   "execution_count": 34,
   "id": "b5292039",
   "metadata": {},
   "outputs": [
    {
     "name": "stdout",
     "output_type": "stream",
     "text": [
      "['ha_212.png', 'ha_393.png', 'ha_428.png', 'ha_489.png', 'ha_412.png']\n"
     ]
    }
   ],
   "source": [
    "print(aver_4[:5])"
   ]
  },
  {
   "cell_type": "code",
   "execution_count": null,
   "id": "8e1b92e7",
   "metadata": {},
   "outputs": [],
   "source": []
  }
 ],
 "metadata": {
  "kernelspec": {
   "display_name": "pybert",
   "language": "python",
   "name": "pybert"
  },
  "language_info": {
   "codemirror_mode": {
    "name": "ipython",
    "version": 3
   },
   "file_extension": ".py",
   "mimetype": "text/x-python",
   "name": "python",
   "nbconvert_exporter": "python",
   "pygments_lexer": "ipython3",
   "version": "3.8.13"
  },
  "vscode": {
   "interpreter": {
    "hash": "31f2aee4e71d21fbe5cf8b01ff0e069b9275f58929596ceb00d14d90e3e16cd6"
   }
  }
 },
 "nbformat": 4,
 "nbformat_minor": 5
}
